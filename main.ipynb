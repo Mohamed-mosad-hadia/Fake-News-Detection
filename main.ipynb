{
 "cells": [
  {
   "cell_type": "code",
   "execution_count": 1,
   "id": "0e206ece",
   "metadata": {
    "scrolled": true
   },
   "outputs": [
    {
     "name": "stderr",
     "output_type": "stream",
     "text": [
      "C:\\Users\\PC\\anaconda3\\lib\\site-packages\\scipy\\__init__.py:146: UserWarning: A NumPy version >=1.16.5 and <1.23.0 is required for this version of SciPy (detected version 1.26.2\n",
      "  warnings.warn(f\"A NumPy version >={np_minversion} and <{np_maxversion}\"\n",
      "[nltk_data] Downloading package stopwords to\n",
      "[nltk_data]     C:\\Users\\PC\\AppData\\Roaming\\nltk_data...\n",
      "[nltk_data]   Package stopwords is already up-to-date!\n",
      "[nltk_data] Downloading package punkt to\n",
      "[nltk_data]     C:\\Users\\PC\\AppData\\Roaming\\nltk_data...\n",
      "[nltk_data]   Package punkt is already up-to-date!\n"
     ]
    }
   ],
   "source": [
    "import pandas as pd\n",
    "import numpy as np \n",
    "import re\n",
    "import nltk \n",
    "import string\n",
    "import spacy\n",
    "from nltk.stem.porter import PorterStemmer\n",
    "nltk.download('stopwords')\n",
    "nltk.download('punkt')\n",
    "from nltk.corpus import stopwords\n",
    "from nltk.tokenize import word_tokenize\n",
    "\n",
    "from sklearn.model_selection import train_test_split\n",
    "from nltk.stem import PorterStemmer,WordNetLemmatizer\n",
    "from nltk.util import ngrams\n",
    "\n"
   ]
  },
  {
   "cell_type": "code",
   "execution_count": 2,
   "id": "ba5e4ed3",
   "metadata": {},
   "outputs": [],
   "source": [
    "#news_data=pd.read_csv(r'C:\\Users\\PC\\data.csv')\n",
    "#news_data.head()\n",
    "\n",
    "#fake news ----> 1\n",
    "#true news----->0\n",
    "#news_data.shape\n",
    "\n",
    "# counting the number of missing values in the dataset\n",
    "#news_data.isnull().sum()\n",
    "\n",
    "# replacing the null values with empty string\n",
    "#news_data = news_data.fillna('')\n",
    "\n",
    "# To select a single column by its name\n",
    "#txt =news_data['Body']  \n",
    "\n",
    "\n",
    "\n",
    "\n",
    "\n",
    "\n"
   ]
  },
  {
   "cell_type": "markdown",
   "id": "7b03ca3f",
   "metadata": {},
   "source": [
    "# data analysis"
   ]
  },
  {
   "cell_type": "code",
   "execution_count": 3,
   "id": "fc20f432",
   "metadata": {},
   "outputs": [],
   "source": [
    "df=pd.read_csv('data.csv')"
   ]
  },
  {
   "cell_type": "code",
   "execution_count": 4,
   "id": "f5bc13db",
   "metadata": {},
   "outputs": [
    {
     "data": {
      "text/html": [
       "<div>\n",
       "<style scoped>\n",
       "    .dataframe tbody tr th:only-of-type {\n",
       "        vertical-align: middle;\n",
       "    }\n",
       "\n",
       "    .dataframe tbody tr th {\n",
       "        vertical-align: top;\n",
       "    }\n",
       "\n",
       "    .dataframe thead th {\n",
       "        text-align: right;\n",
       "    }\n",
       "</style>\n",
       "<table border=\"1\" class=\"dataframe\">\n",
       "  <thead>\n",
       "    <tr style=\"text-align: right;\">\n",
       "      <th></th>\n",
       "      <th>URLs</th>\n",
       "      <th>Headline</th>\n",
       "      <th>Body</th>\n",
       "      <th>Label</th>\n",
       "    </tr>\n",
       "  </thead>\n",
       "  <tbody>\n",
       "    <tr>\n",
       "      <th>0</th>\n",
       "      <td>http://www.bbc.com/news/world-us-canada-414191...</td>\n",
       "      <td>Four ways Bob Corker skewered Donald Trump</td>\n",
       "      <td>Image copyright Getty Images\\nOn Sunday mornin...</td>\n",
       "      <td>1</td>\n",
       "    </tr>\n",
       "    <tr>\n",
       "      <th>1</th>\n",
       "      <td>https://www.reuters.com/article/us-filmfestiva...</td>\n",
       "      <td>Linklater's war veteran comedy speaks to moder...</td>\n",
       "      <td>LONDON (Reuters) - “Last Flag Flying”, a comed...</td>\n",
       "      <td>1</td>\n",
       "    </tr>\n",
       "    <tr>\n",
       "      <th>2</th>\n",
       "      <td>https://www.nytimes.com/2017/10/09/us/politics...</td>\n",
       "      <td>Trump’s Fight With Corker Jeopardizes His Legi...</td>\n",
       "      <td>The feud broke into public view last week when...</td>\n",
       "      <td>1</td>\n",
       "    </tr>\n",
       "    <tr>\n",
       "      <th>3</th>\n",
       "      <td>https://www.reuters.com/article/us-mexico-oil-...</td>\n",
       "      <td>Egypt's Cheiron wins tie-up with Pemex for Mex...</td>\n",
       "      <td>MEXICO CITY (Reuters) - Egypt’s Cheiron Holdin...</td>\n",
       "      <td>1</td>\n",
       "    </tr>\n",
       "    <tr>\n",
       "      <th>4</th>\n",
       "      <td>http://www.cnn.com/videos/cnnmoney/2017/10/08/...</td>\n",
       "      <td>Jason Aldean opens 'SNL' with Vegas tribute</td>\n",
       "      <td>Country singer Jason Aldean, who was performin...</td>\n",
       "      <td>1</td>\n",
       "    </tr>\n",
       "  </tbody>\n",
       "</table>\n",
       "</div>"
      ],
      "text/plain": [
       "                                                URLs  \\\n",
       "0  http://www.bbc.com/news/world-us-canada-414191...   \n",
       "1  https://www.reuters.com/article/us-filmfestiva...   \n",
       "2  https://www.nytimes.com/2017/10/09/us/politics...   \n",
       "3  https://www.reuters.com/article/us-mexico-oil-...   \n",
       "4  http://www.cnn.com/videos/cnnmoney/2017/10/08/...   \n",
       "\n",
       "                                            Headline  \\\n",
       "0         Four ways Bob Corker skewered Donald Trump   \n",
       "1  Linklater's war veteran comedy speaks to moder...   \n",
       "2  Trump’s Fight With Corker Jeopardizes His Legi...   \n",
       "3  Egypt's Cheiron wins tie-up with Pemex for Mex...   \n",
       "4        Jason Aldean opens 'SNL' with Vegas tribute   \n",
       "\n",
       "                                                Body  Label  \n",
       "0  Image copyright Getty Images\\nOn Sunday mornin...      1  \n",
       "1  LONDON (Reuters) - “Last Flag Flying”, a comed...      1  \n",
       "2  The feud broke into public view last week when...      1  \n",
       "3  MEXICO CITY (Reuters) - Egypt’s Cheiron Holdin...      1  \n",
       "4  Country singer Jason Aldean, who was performin...      1  "
      ]
     },
     "execution_count": 4,
     "metadata": {},
     "output_type": "execute_result"
    }
   ],
   "source": [
    "df.head()"
   ]
  },
  {
   "cell_type": "markdown",
   "id": "9e21aae7",
   "metadata": {},
   "source": [
    "# Preprocessing"
   ]
  },
  {
   "cell_type": "code",
   "execution_count": 5,
   "id": "fa9ba353",
   "metadata": {},
   "outputs": [
    {
     "data": {
      "text/plain": [
       "URLs         0\n",
       "Headline     0\n",
       "Body        21\n",
       "Label        0\n",
       "dtype: int64"
      ]
     },
     "execution_count": 5,
     "metadata": {},
     "output_type": "execute_result"
    }
   ],
   "source": [
    "df.isnull().sum()"
   ]
  },
  {
   "cell_type": "code",
   "execution_count": 6,
   "id": "da1ba39e",
   "metadata": {},
   "outputs": [],
   "source": [
    "df = df.fillna(' ')"
   ]
  },
  {
   "cell_type": "code",
   "execution_count": 7,
   "id": "0b5e8bce",
   "metadata": {},
   "outputs": [
    {
     "data": {
      "text/plain": [
       "URLs        0\n",
       "Headline    0\n",
       "Body        0\n",
       "Label       0\n",
       "dtype: int64"
      ]
     },
     "execution_count": 7,
     "metadata": {},
     "output_type": "execute_result"
    }
   ],
   "source": [
    "df.isnull().sum()"
   ]
  },
  {
   "cell_type": "code",
   "execution_count": 8,
   "id": "d2343087",
   "metadata": {},
   "outputs": [
    {
     "data": {
      "text/plain": [
       "(4009, 4)"
      ]
     },
     "execution_count": 8,
     "metadata": {},
     "output_type": "execute_result"
    }
   ],
   "source": [
    "df.shape"
   ]
  },
  {
   "cell_type": "code",
   "execution_count": 9,
   "id": "4b539e92",
   "metadata": {},
   "outputs": [
    {
     "name": "stdout",
     "output_type": "stream",
     "text": [
      "<class 'pandas.core.frame.DataFrame'>\n",
      "RangeIndex: 4009 entries, 0 to 4008\n",
      "Data columns (total 4 columns):\n",
      " #   Column    Non-Null Count  Dtype \n",
      "---  ------    --------------  ----- \n",
      " 0   URLs      4009 non-null   object\n",
      " 1   Headline  4009 non-null   object\n",
      " 2   Body      4009 non-null   object\n",
      " 3   Label     4009 non-null   int64 \n",
      "dtypes: int64(1), object(3)\n",
      "memory usage: 125.4+ KB\n"
     ]
    }
   ],
   "source": [
    "df.info()"
   ]
  },
  {
   "cell_type": "code",
   "execution_count": 10,
   "id": "e154e72d",
   "metadata": {},
   "outputs": [],
   "source": [
    "df=df.fillna('')"
   ]
  },
  {
   "cell_type": "code",
   "execution_count": 11,
   "id": "190b16ec",
   "metadata": {},
   "outputs": [
    {
     "data": {
      "text/plain": [
       "URLs        0\n",
       "Headline    0\n",
       "Body        0\n",
       "Label       0\n",
       "dtype: int64"
      ]
     },
     "execution_count": 11,
     "metadata": {},
     "output_type": "execute_result"
    }
   ],
   "source": [
    "df.isnull().sum()"
   ]
  },
  {
   "cell_type": "code",
   "execution_count": 12,
   "id": "f867eee5",
   "metadata": {},
   "outputs": [
    {
     "data": {
      "text/plain": [
       "Index(['URLs', 'Headline', 'Body', 'Label'], dtype='object')"
      ]
     },
     "execution_count": 12,
     "metadata": {},
     "output_type": "execute_result"
    }
   ],
   "source": [
    "df.columns"
   ]
  },
  {
   "cell_type": "code",
   "execution_count": 13,
   "id": "a5c83f70",
   "metadata": {},
   "outputs": [],
   "source": [
    "#body= text headline + text body \n",
    "df['Body']=df['Headline']+''+df['Body']"
   ]
  },
  {
   "cell_type": "code",
   "execution_count": 14,
   "id": "6ea13dfc",
   "metadata": {},
   "outputs": [],
   "source": [
    "#drop 2 columns -----> URL + Headline \n",
    "df=df.drop(['URLs','Headline'], axis=1)"
   ]
  },
  {
   "cell_type": "code",
   "execution_count": 15,
   "id": "0b8d7226",
   "metadata": {},
   "outputs": [
    {
     "data": {
      "text/html": [
       "<div>\n",
       "<style scoped>\n",
       "    .dataframe tbody tr th:only-of-type {\n",
       "        vertical-align: middle;\n",
       "    }\n",
       "\n",
       "    .dataframe tbody tr th {\n",
       "        vertical-align: top;\n",
       "    }\n",
       "\n",
       "    .dataframe thead th {\n",
       "        text-align: right;\n",
       "    }\n",
       "</style>\n",
       "<table border=\"1\" class=\"dataframe\">\n",
       "  <thead>\n",
       "    <tr style=\"text-align: right;\">\n",
       "      <th></th>\n",
       "      <th>Body</th>\n",
       "      <th>Label</th>\n",
       "    </tr>\n",
       "  </thead>\n",
       "  <tbody>\n",
       "    <tr>\n",
       "      <th>0</th>\n",
       "      <td>Four ways Bob Corker skewered Donald TrumpImag...</td>\n",
       "      <td>1</td>\n",
       "    </tr>\n",
       "    <tr>\n",
       "      <th>1</th>\n",
       "      <td>Linklater's war veteran comedy speaks to moder...</td>\n",
       "      <td>1</td>\n",
       "    </tr>\n",
       "    <tr>\n",
       "      <th>2</th>\n",
       "      <td>Trump’s Fight With Corker Jeopardizes His Legi...</td>\n",
       "      <td>1</td>\n",
       "    </tr>\n",
       "    <tr>\n",
       "      <th>3</th>\n",
       "      <td>Egypt's Cheiron wins tie-up with Pemex for Mex...</td>\n",
       "      <td>1</td>\n",
       "    </tr>\n",
       "    <tr>\n",
       "      <th>4</th>\n",
       "      <td>Jason Aldean opens 'SNL' with Vegas tributeCou...</td>\n",
       "      <td>1</td>\n",
       "    </tr>\n",
       "  </tbody>\n",
       "</table>\n",
       "</div>"
      ],
      "text/plain": [
       "                                                Body  Label\n",
       "0  Four ways Bob Corker skewered Donald TrumpImag...      1\n",
       "1  Linklater's war veteran comedy speaks to moder...      1\n",
       "2  Trump’s Fight With Corker Jeopardizes His Legi...      1\n",
       "3  Egypt's Cheiron wins tie-up with Pemex for Mex...      1\n",
       "4  Jason Aldean opens 'SNL' with Vegas tributeCou...      1"
      ]
     },
     "execution_count": 15,
     "metadata": {},
     "output_type": "execute_result"
    }
   ],
   "source": [
    "df.head()"
   ]
  },
  {
   "cell_type": "code",
   "execution_count": 16,
   "id": "1bf93cd9",
   "metadata": {},
   "outputs": [],
   "source": [
    "x=df['Body']#.values"
   ]
  },
  {
   "cell_type": "code",
   "execution_count": 17,
   "id": "62100b3c",
   "metadata": {},
   "outputs": [],
   "source": [
    "y=df['Label']#.valyes"
   ]
  },
  {
   "cell_type": "code",
   "execution_count": 18,
   "id": "b0676346",
   "metadata": {},
   "outputs": [
    {
     "name": "stdout",
     "output_type": "stream",
     "text": [
      "0       Four ways Bob Corker skewered Donald TrumpImag...\n",
      "1       Linklater's war veteran comedy speaks to moder...\n",
      "2       Trump’s Fight With Corker Jeopardizes His Legi...\n",
      "3       Egypt's Cheiron wins tie-up with Pemex for Mex...\n",
      "4       Jason Aldean opens 'SNL' with Vegas tributeCou...\n",
      "                              ...                        \n",
      "4004    Trends to WatchTrends to Watch\\n% of readers t...\n",
      "4005    Trump Jr. Is Soon To Give A 30-Minute Speech F...\n",
      "4006         Ron Paul on Trump, Anarchism & the AltRight \n",
      "4007    China to accept overseas trial data in bid to ...\n",
      "4008    Vice President Mike Pence Leaves NFL Game Beca...\n",
      "Name: Body, Length: 4009, dtype: object\n"
     ]
    }
   ],
   "source": [
    "print(x)"
   ]
  },
  {
   "cell_type": "code",
   "execution_count": 19,
   "id": "32c36089",
   "metadata": {},
   "outputs": [
    {
     "name": "stdout",
     "output_type": "stream",
     "text": [
      "0       1\n",
      "1       1\n",
      "2       1\n",
      "3       1\n",
      "4       1\n",
      "       ..\n",
      "4004    0\n",
      "4005    0\n",
      "4006    0\n",
      "4007    1\n",
      "4008    0\n",
      "Name: Label, Length: 4009, dtype: int64\n"
     ]
    }
   ],
   "source": [
    "print(y)"
   ]
  },
  {
   "cell_type": "code",
   "execution_count": 20,
   "id": "f89c0c58",
   "metadata": {},
   "outputs": [
    {
     "data": {
      "text/plain": [
       "(4009,)"
      ]
     },
     "execution_count": 20,
     "metadata": {},
     "output_type": "execute_result"
    }
   ],
   "source": [
    "y.shape"
   ]
  },
  {
   "cell_type": "code",
   "execution_count": 21,
   "id": "5306efbc",
   "metadata": {},
   "outputs": [
    {
     "data": {
      "text/plain": [
       "(4009,)"
      ]
     },
     "execution_count": 21,
     "metadata": {},
     "output_type": "execute_result"
    }
   ],
   "source": [
    "x.shape"
   ]
  },
  {
   "cell_type": "code",
   "execution_count": 22,
   "id": "9ee13d9a",
   "metadata": {},
   "outputs": [],
   "source": [
    "text_column = 'Body'"
   ]
  },
  {
   "cell_type": "code",
   "execution_count": 23,
   "id": "51735d25",
   "metadata": {},
   "outputs": [],
   "source": [
    "text_data = df[text_column]"
   ]
  },
  {
   "cell_type": "markdown",
   "id": "12a40608",
   "metadata": {},
   "source": [
    "# tokenization \n",
    "\n",
    "\n"
   ]
  },
  {
   "cell_type": "code",
   "execution_count": 24,
   "id": "f7830684",
   "metadata": {
    "scrolled": true
   },
   "outputs": [
    {
     "name": "stdout",
     "output_type": "stream",
     "text": [
      "0       Four ways Bob Corker skewered Donald TrumpImag...\n",
      "1       Linklater's war veteran comedy speaks to moder...\n",
      "2       Trump’s Fight With Corker Jeopardizes His Legi...\n",
      "3       Egypt's Cheiron wins tie-up with Pemex for Mex...\n",
      "4       Jason Aldean opens 'SNL' with Vegas tributeCou...\n",
      "                              ...                        \n",
      "4004    Trends to WatchTrends to Watch\\n% of readers t...\n",
      "4005    Trump Jr. Is Soon To Give A 30-Minute Speech F...\n",
      "4006         Ron Paul on Trump, Anarchism & the AltRight \n",
      "4007    China to accept overseas trial data in bid to ...\n",
      "4008    Vice President Mike Pence Leaves NFL Game Beca...\n",
      "Name: Body, Length: 4009, dtype: object\n"
     ]
    }
   ],
   "source": [
    "print(text_data)"
   ]
  },
  {
   "cell_type": "code",
   "execution_count": 25,
   "id": "bcfd9a6b",
   "metadata": {},
   "outputs": [
    {
     "data": {
      "text/html": [
       "<div>\n",
       "<style scoped>\n",
       "    .dataframe tbody tr th:only-of-type {\n",
       "        vertical-align: middle;\n",
       "    }\n",
       "\n",
       "    .dataframe tbody tr th {\n",
       "        vertical-align: top;\n",
       "    }\n",
       "\n",
       "    .dataframe thead th {\n",
       "        text-align: right;\n",
       "    }\n",
       "</style>\n",
       "<table border=\"1\" class=\"dataframe\">\n",
       "  <thead>\n",
       "    <tr style=\"text-align: right;\">\n",
       "      <th></th>\n",
       "      <th>Body</th>\n",
       "      <th>Label</th>\n",
       "    </tr>\n",
       "  </thead>\n",
       "  <tbody>\n",
       "    <tr>\n",
       "      <th>0</th>\n",
       "      <td>Four ways Bob Corker skewered Donald TrumpImag...</td>\n",
       "      <td>1</td>\n",
       "    </tr>\n",
       "    <tr>\n",
       "      <th>1</th>\n",
       "      <td>Linklater's war veteran comedy speaks to moder...</td>\n",
       "      <td>1</td>\n",
       "    </tr>\n",
       "    <tr>\n",
       "      <th>2</th>\n",
       "      <td>Trump’s Fight With Corker Jeopardizes His Legi...</td>\n",
       "      <td>1</td>\n",
       "    </tr>\n",
       "    <tr>\n",
       "      <th>3</th>\n",
       "      <td>Egypt's Cheiron wins tie-up with Pemex for Mex...</td>\n",
       "      <td>1</td>\n",
       "    </tr>\n",
       "    <tr>\n",
       "      <th>4</th>\n",
       "      <td>Jason Aldean opens 'SNL' with Vegas tributeCou...</td>\n",
       "      <td>1</td>\n",
       "    </tr>\n",
       "    <tr>\n",
       "      <th>5</th>\n",
       "      <td>JetNation FanDuel League; Week 4JetNation FanD...</td>\n",
       "      <td>0</td>\n",
       "    </tr>\n",
       "    <tr>\n",
       "      <th>6</th>\n",
       "      <td>Kansas Tried a Tax Plan Similar to Trump’s. It...</td>\n",
       "      <td>1</td>\n",
       "    </tr>\n",
       "    <tr>\n",
       "      <th>7</th>\n",
       "      <td>India RBI chief: growth important, but not at ...</td>\n",
       "      <td>1</td>\n",
       "    </tr>\n",
       "    <tr>\n",
       "      <th>8</th>\n",
       "      <td>EPA chief to sign rule on Clean Power Plan exi...</td>\n",
       "      <td>1</td>\n",
       "    </tr>\n",
       "    <tr>\n",
       "      <th>9</th>\n",
       "      <td>Talks on sale of Air Berlin planes to easyJet ...</td>\n",
       "      <td>1</td>\n",
       "    </tr>\n",
       "  </tbody>\n",
       "</table>\n",
       "</div>"
      ],
      "text/plain": [
       "                                                Body  Label\n",
       "0  Four ways Bob Corker skewered Donald TrumpImag...      1\n",
       "1  Linklater's war veteran comedy speaks to moder...      1\n",
       "2  Trump’s Fight With Corker Jeopardizes His Legi...      1\n",
       "3  Egypt's Cheiron wins tie-up with Pemex for Mex...      1\n",
       "4  Jason Aldean opens 'SNL' with Vegas tributeCou...      1\n",
       "5  JetNation FanDuel League; Week 4JetNation FanD...      0\n",
       "6  Kansas Tried a Tax Plan Similar to Trump’s. It...      1\n",
       "7  India RBI chief: growth important, but not at ...      1\n",
       "8  EPA chief to sign rule on Clean Power Plan exi...      1\n",
       "9  Talks on sale of Air Berlin planes to easyJet ...      1"
      ]
     },
     "execution_count": 25,
     "metadata": {},
     "output_type": "execute_result"
    }
   ],
   "source": [
    "msg = df.copy()\n",
    "msg.head(10)"
   ]
  },
  {
   "cell_type": "code",
   "execution_count": 26,
   "id": "c84c3630",
   "metadata": {},
   "outputs": [
    {
     "data": {
      "text/html": [
       "<div>\n",
       "<style scoped>\n",
       "    .dataframe tbody tr th:only-of-type {\n",
       "        vertical-align: middle;\n",
       "    }\n",
       "\n",
       "    .dataframe tbody tr th {\n",
       "        vertical-align: top;\n",
       "    }\n",
       "\n",
       "    .dataframe thead th {\n",
       "        text-align: right;\n",
       "    }\n",
       "</style>\n",
       "<table border=\"1\" class=\"dataframe\">\n",
       "  <thead>\n",
       "    <tr style=\"text-align: right;\">\n",
       "      <th></th>\n",
       "      <th>index</th>\n",
       "      <th>Body</th>\n",
       "      <th>Label</th>\n",
       "    </tr>\n",
       "  </thead>\n",
       "  <tbody>\n",
       "    <tr>\n",
       "      <th>0</th>\n",
       "      <td>0</td>\n",
       "      <td>Four ways Bob Corker skewered Donald TrumpImag...</td>\n",
       "      <td>1</td>\n",
       "    </tr>\n",
       "    <tr>\n",
       "      <th>1</th>\n",
       "      <td>1</td>\n",
       "      <td>Linklater's war veteran comedy speaks to moder...</td>\n",
       "      <td>1</td>\n",
       "    </tr>\n",
       "    <tr>\n",
       "      <th>2</th>\n",
       "      <td>2</td>\n",
       "      <td>Trump’s Fight With Corker Jeopardizes His Legi...</td>\n",
       "      <td>1</td>\n",
       "    </tr>\n",
       "    <tr>\n",
       "      <th>3</th>\n",
       "      <td>3</td>\n",
       "      <td>Egypt's Cheiron wins tie-up with Pemex for Mex...</td>\n",
       "      <td>1</td>\n",
       "    </tr>\n",
       "    <tr>\n",
       "      <th>4</th>\n",
       "      <td>4</td>\n",
       "      <td>Jason Aldean opens 'SNL' with Vegas tributeCou...</td>\n",
       "      <td>1</td>\n",
       "    </tr>\n",
       "    <tr>\n",
       "      <th>5</th>\n",
       "      <td>5</td>\n",
       "      <td>JetNation FanDuel League; Week 4JetNation FanD...</td>\n",
       "      <td>0</td>\n",
       "    </tr>\n",
       "    <tr>\n",
       "      <th>6</th>\n",
       "      <td>6</td>\n",
       "      <td>Kansas Tried a Tax Plan Similar to Trump’s. It...</td>\n",
       "      <td>1</td>\n",
       "    </tr>\n",
       "    <tr>\n",
       "      <th>7</th>\n",
       "      <td>7</td>\n",
       "      <td>India RBI chief: growth important, but not at ...</td>\n",
       "      <td>1</td>\n",
       "    </tr>\n",
       "    <tr>\n",
       "      <th>8</th>\n",
       "      <td>8</td>\n",
       "      <td>EPA chief to sign rule on Clean Power Plan exi...</td>\n",
       "      <td>1</td>\n",
       "    </tr>\n",
       "    <tr>\n",
       "      <th>9</th>\n",
       "      <td>9</td>\n",
       "      <td>Talks on sale of Air Berlin planes to easyJet ...</td>\n",
       "      <td>1</td>\n",
       "    </tr>\n",
       "  </tbody>\n",
       "</table>\n",
       "</div>"
      ],
      "text/plain": [
       "   index                                               Body  Label\n",
       "0      0  Four ways Bob Corker skewered Donald TrumpImag...      1\n",
       "1      1  Linklater's war veteran comedy speaks to moder...      1\n",
       "2      2  Trump’s Fight With Corker Jeopardizes His Legi...      1\n",
       "3      3  Egypt's Cheiron wins tie-up with Pemex for Mex...      1\n",
       "4      4  Jason Aldean opens 'SNL' with Vegas tributeCou...      1\n",
       "5      5  JetNation FanDuel League; Week 4JetNation FanD...      0\n",
       "6      6  Kansas Tried a Tax Plan Similar to Trump’s. It...      1\n",
       "7      7  India RBI chief: growth important, but not at ...      1\n",
       "8      8  EPA chief to sign rule on Clean Power Plan exi...      1\n",
       "9      9  Talks on sale of Air Berlin planes to easyJet ...      1"
      ]
     },
     "execution_count": 26,
     "metadata": {},
     "output_type": "execute_result"
    }
   ],
   "source": [
    "#rying to reset the index of a DataFrame named msg \n",
    "#and then display the first 10 rows using head(10).\n",
    "msg.reset_index(inplace = True)\n",
    "msg.head(10)"
   ]
  },
  {
   "cell_type": "code",
   "execution_count": 27,
   "id": "ef84d83d",
   "metadata": {
    "scrolled": false
   },
   "outputs": [
    {
     "data": {
      "text/plain": [
       "'U.S. President Donald Trump Quietly Signs Law To Allow Warrantless Searches In Parts Of VA, DC and MDBy Aaron Kesel\\nAs former White House chief of staff and current Chicago Mayor Rahm Emanuel has said: “You never let a serious crisis go to waste.” While everyone was worried about the hurricanes, U.S. President Donald Trump signed away the Fourth Amendment buried in a new bill. He set a precedent by empowering the police state to allow warrantless searches in parts of VA, MD and D.C. near the Metro train system.\\nThe government can now openly enter and search private property without a warrant in parts of Virginia, Maryland and D.C.\\nThe House Joint Resolution 76 was signed into law on Tuesday, Aug. 22, by President Trump. The text is rather boring, starting off with: “Granting the consent and approval of Congress for the Commonwealth of Virginia, the State of Maryland, and the District of Columbia to enter into a compact relating to the establishment of the Washington Metrorail Safety Commission.”\\nCNN explained, “This law lets Virginia, Maryland and the District of Columbia form a new panel called the Washington Metrorail Safety Commission to oversee the safety of the D.C.-area public transportation Metro train system.”\\nThe new safety commission will take over from the current Federal Transit Agency (FTA), which has been in charge of safety oversight for the Washington Metropolitan Area Interstate Compact (WMATA) since October 2015.\\n“We’ll set this up and get the FTA out of Metro. They are happy to get out, and we’re happy to get them out,” Metro Board of Directors Chair Jack Evans told Bloomberg BNA. “I’m glad we got this thing. If nothing else, we’ll get our money.”\\nHowever, buried within the bill’s text is a daunting “one major red flag” that would give the newly formed commission “the authority to enter property near the Metro Rail System ‘without limitation’ and without a warrant, for the purpose of ‘making inspections, investigations, examinations, and testing,” The Free Thought Project reported.\\nThe legislation reads:\\nIn performing its duties, the Commission, through its Board or designated employees or agents, may: Enter upon the WMATA Rail System and, upon reasonable notice and a finding by the chief executive officer that a need exists, upon any lands, waters, and premises adjacent to the WMATA Rail System, including, without limitation, property owned or occupied by the federal government, for the purpose of making inspections, investigations, examinations, and testing as the Commission may deem necessary to carry out the purposes of this MSC Compact, and such entry shall not be deemed a trespass.\\nOnly five Congressman voted against the bill according to U.S. Rep Justin Amash (R-Mich.) while three hundred ninety-nine gave their approval, and 29 didn’t bother to vote at all. Apparently, our elected officials can’t be bothered to stand up for the rights of we the people or the Constitution they swore to protect. After all, the Fourth Amendment doesn’t exist, which protects Americans from unreasonable searches and seizures or anything. As Amash pointed out, the government will now be able to kick in the doors of any private property surrounding the border of the DC Metro Rail System without needing a warrant based on any probable cause.\\nOnly 5 of us voted against bill allowing govt to enter/search private property in parts of VA, MD & DC w/o warrant. https://t.co/SVhTWqbPaB — Justin Amash (@justinamash) July 18, 2017 FREE Stormproof, Waterproof Survival Match Kit (Ad)\\nA scary prospect indeed, as Rachel Blevins wrote for The Free Thought Project, “While it may only affect the Washington, D.C., metro area now, it could be laying the blueprint for future legislation across the country.”\\nAaron Kesel writes for Activist Post and is Director of Content for Coinivore. Follow Aaron at Twitter and Steemit.\\nThis article is Creative Commons and can be republished in full with attribution. Like Activist Post on Facebook, subscribe on YouTube, follow on Twitter and at Steemit.\\nImage Credit: The Anti-Media'"
      ]
     },
     "execution_count": 27,
     "metadata": {},
     "output_type": "execute_result"
    }
   ],
   "source": [
    "msg['Body'][10]"
   ]
  },
  {
   "cell_type": "code",
   "execution_count": 28,
   "id": "6c638dad",
   "metadata": {},
   "outputs": [],
   "source": [
    "txt=msg['Body'][10]"
   ]
  },
  {
   "cell_type": "code",
   "execution_count": 29,
   "id": "892492b7",
   "metadata": {},
   "outputs": [
    {
     "data": {
      "text/plain": [
       "4073"
      ]
     },
     "execution_count": 29,
     "metadata": {},
     "output_type": "execute_result"
    }
   ],
   "source": [
    "len(txt)"
   ]
  },
  {
   "cell_type": "code",
   "execution_count": 30,
   "id": "deae55b1",
   "metadata": {},
   "outputs": [
    {
     "data": {
      "text/plain": [
       "74"
      ]
     },
     "execution_count": 30,
     "metadata": {},
     "output_type": "execute_result"
    }
   ],
   "source": [
    "len(set (txt))# number of vocabs without repetition"
   ]
  },
  {
   "cell_type": "code",
   "execution_count": 31,
   "id": "5e03839f",
   "metadata": {},
   "outputs": [
    {
     "data": {
      "text/plain": [
       "4073"
      ]
     },
     "execution_count": 31,
     "metadata": {},
     "output_type": "execute_result"
    }
   ],
   "source": [
    "len(txt)# number of char"
   ]
  },
  {
   "cell_type": "code",
   "execution_count": 32,
   "id": "de2668f5",
   "metadata": {},
   "outputs": [],
   "source": [
    "tokens=word_tokenize(txt)"
   ]
  },
  {
   "cell_type": "code",
   "execution_count": 33,
   "id": "81f619c7",
   "metadata": {},
   "outputs": [
    {
     "name": "stdout",
     "output_type": "stream",
     "text": [
      "['U.S.', 'President', 'Donald', 'Trump', 'Quietly', 'Signs', 'Law', 'To', 'Allow', 'Warrantless', 'Searches', 'In', 'Parts', 'Of', 'VA', ',', 'DC', 'and', 'MDBy', 'Aaron', 'Kesel', 'As', 'former', 'White', 'House', 'chief', 'of', 'staff', 'and', 'current', 'Chicago', 'Mayor', 'Rahm', 'Emanuel', 'has', 'said', ':', '“', 'You', 'never', 'let', 'a', 'serious', 'crisis', 'go', 'to', 'waste.', '”', 'While', 'everyone', 'was', 'worried', 'about', 'the', 'hurricanes', ',', 'U.S.', 'President', 'Donald', 'Trump', 'signed', 'away', 'the', 'Fourth', 'Amendment', 'buried', 'in', 'a', 'new', 'bill', '.', 'He', 'set', 'a', 'precedent', 'by', 'empowering', 'the', 'police', 'state', 'to', 'allow', 'warrantless', 'searches', 'in', 'parts', 'of', 'VA', ',', 'MD', 'and', 'D.C.', 'near', 'the', 'Metro', 'train', 'system', '.', 'The', 'government', 'can', 'now', 'openly', 'enter', 'and', 'search', 'private', 'property', 'without', 'a', 'warrant', 'in', 'parts', 'of', 'Virginia', ',', 'Maryland', 'and', 'D.C', '.', 'The', 'House', 'Joint', 'Resolution', '76', 'was', 'signed', 'into', 'law', 'on', 'Tuesday', ',', 'Aug.', '22', ',', 'by', 'President', 'Trump', '.', 'The', 'text', 'is', 'rather', 'boring', ',', 'starting', 'off', 'with', ':', '“', 'Granting', 'the', 'consent', 'and', 'approval', 'of', 'Congress', 'for', 'the', 'Commonwealth', 'of', 'Virginia', ',', 'the', 'State', 'of', 'Maryland', ',', 'and', 'the', 'District', 'of', 'Columbia', 'to', 'enter', 'into', 'a', 'compact', 'relating', 'to', 'the', 'establishment', 'of', 'the', 'Washington', 'Metrorail', 'Safety', 'Commission.', '”', 'CNN', 'explained', ',', '“', 'This', 'law', 'lets', 'Virginia', ',', 'Maryland', 'and', 'the', 'District', 'of', 'Columbia', 'form', 'a', 'new', 'panel', 'called', 'the', 'Washington', 'Metrorail', 'Safety', 'Commission', 'to', 'oversee', 'the', 'safety', 'of', 'the', 'D.C.-area', 'public', 'transportation', 'Metro', 'train', 'system.', '”', 'The', 'new', 'safety', 'commission', 'will', 'take', 'over', 'from', 'the', 'current', 'Federal', 'Transit', 'Agency', '(', 'FTA', ')', ',', 'which', 'has', 'been', 'in', 'charge', 'of', 'safety', 'oversight', 'for', 'the', 'Washington', 'Metropolitan', 'Area', 'Interstate', 'Compact', '(', 'WMATA', ')', 'since', 'October', '2015', '.', '“', 'We', '’', 'll', 'set', 'this', 'up', 'and', 'get', 'the', 'FTA', 'out', 'of', 'Metro', '.', 'They', 'are', 'happy', 'to', 'get', 'out', ',', 'and', 'we', '’', 're', 'happy', 'to', 'get', 'them', 'out', ',', '”', 'Metro', 'Board', 'of', 'Directors', 'Chair', 'Jack', 'Evans', 'told', 'Bloomberg', 'BNA', '.', '“', 'I', '’', 'm', 'glad', 'we', 'got', 'this', 'thing', '.', 'If', 'nothing', 'else', ',', 'we', '’', 'll', 'get', 'our', 'money.', '”', 'However', ',', 'buried', 'within', 'the', 'bill', '’', 's', 'text', 'is', 'a', 'daunting', '“', 'one', 'major', 'red', 'flag', '”', 'that', 'would', 'give', 'the', 'newly', 'formed', 'commission', '“', 'the', 'authority', 'to', 'enter', 'property', 'near', 'the', 'Metro', 'Rail', 'System', '‘', 'without', 'limitation', '’', 'and', 'without', 'a', 'warrant', ',', 'for', 'the', 'purpose', 'of', '‘', 'making', 'inspections', ',', 'investigations', ',', 'examinations', ',', 'and', 'testing', ',', '”', 'The', 'Free', 'Thought', 'Project', 'reported', '.', 'The', 'legislation', 'reads', ':', 'In', 'performing', 'its', 'duties', ',', 'the', 'Commission', ',', 'through', 'its', 'Board', 'or', 'designated', 'employees', 'or', 'agents', ',', 'may', ':', 'Enter', 'upon', 'the', 'WMATA', 'Rail', 'System', 'and', ',', 'upon', 'reasonable', 'notice', 'and', 'a', 'finding', 'by', 'the', 'chief', 'executive', 'officer', 'that', 'a', 'need', 'exists', ',', 'upon', 'any', 'lands', ',', 'waters', ',', 'and', 'premises', 'adjacent', 'to', 'the', 'WMATA', 'Rail', 'System', ',', 'including', ',', 'without', 'limitation', ',', 'property', 'owned', 'or', 'occupied', 'by', 'the', 'federal', 'government', ',', 'for', 'the', 'purpose', 'of', 'making', 'inspections', ',', 'investigations', ',', 'examinations', ',', 'and', 'testing', 'as', 'the', 'Commission', 'may', 'deem', 'necessary', 'to', 'carry', 'out', 'the', 'purposes', 'of', 'this', 'MSC', 'Compact', ',', 'and', 'such', 'entry', 'shall', 'not', 'be', 'deemed', 'a', 'trespass', '.', 'Only', 'five', 'Congressman', 'voted', 'against', 'the', 'bill', 'according', 'to', 'U.S.', 'Rep', 'Justin', 'Amash', '(', 'R-Mich.', ')', 'while', 'three', 'hundred', 'ninety-nine', 'gave', 'their', 'approval', ',', 'and', '29', 'didn', '’', 't', 'bother', 'to', 'vote', 'at', 'all', '.', 'Apparently', ',', 'our', 'elected', 'officials', 'can', '’', 't', 'be', 'bothered', 'to', 'stand', 'up', 'for', 'the', 'rights', 'of', 'we', 'the', 'people', 'or', 'the', 'Constitution', 'they', 'swore', 'to', 'protect', '.', 'After', 'all', ',', 'the', 'Fourth', 'Amendment', 'doesn', '’', 't', 'exist', ',', 'which', 'protects', 'Americans', 'from', 'unreasonable', 'searches', 'and', 'seizures', 'or', 'anything', '.', 'As', 'Amash', 'pointed', 'out', ',', 'the', 'government', 'will', 'now', 'be', 'able', 'to', 'kick', 'in', 'the', 'doors', 'of', 'any', 'private', 'property', 'surrounding', 'the', 'border', 'of', 'the', 'DC', 'Metro', 'Rail', 'System', 'without', 'needing', 'a', 'warrant', 'based', 'on', 'any', 'probable', 'cause', '.', 'Only', '5', 'of', 'us', 'voted', 'against', 'bill', 'allowing', 'govt', 'to', 'enter/search', 'private', 'property', 'in', 'parts', 'of', 'VA', ',', 'MD', '&', 'DC', 'w/o', 'warrant', '.', 'https', ':', '//t.co/SVhTWqbPaB', '—', 'Justin', 'Amash', '(', '@', 'justinamash', ')', 'July', '18', ',', '2017', 'FREE', 'Stormproof', ',', 'Waterproof', 'Survival', 'Match', 'Kit', '(', 'Ad', ')', 'A', 'scary', 'prospect', 'indeed', ',', 'as', 'Rachel', 'Blevins', 'wrote', 'for', 'The', 'Free', 'Thought', 'Project', ',', '“', 'While', 'it', 'may', 'only', 'affect', 'the', 'Washington', ',', 'D.C.', ',', 'metro', 'area', 'now', ',', 'it', 'could', 'be', 'laying', 'the', 'blueprint', 'for', 'future', 'legislation', 'across', 'the', 'country.', '”', 'Aaron', 'Kesel', 'writes', 'for', 'Activist', 'Post', 'and', 'is', 'Director', 'of', 'Content', 'for', 'Coinivore', '.', 'Follow', 'Aaron', 'at', 'Twitter', 'and', 'Steemit', '.', 'This', 'article', 'is', 'Creative', 'Commons', 'and', 'can', 'be', 'republished', 'in', 'full', 'with', 'attribution', '.', 'Like', 'Activist', 'Post', 'on', 'Facebook', ',', 'subscribe', 'on', 'YouTube', ',', 'follow', 'on', 'Twitter', 'and', 'at', 'Steemit', '.', 'Image', 'Credit', ':', 'The', 'Anti-Media']\n"
     ]
    }
   ],
   "source": [
    "print(tokens)"
   ]
  },
  {
   "cell_type": "markdown",
   "id": "d8df7749",
   "metadata": {},
   "source": [
    "# remove stopwords  and  punctuation from txt "
   ]
  },
  {
   "cell_type": "code",
   "execution_count": 34,
   "id": "3afb91ed",
   "metadata": {},
   "outputs": [],
   "source": [
    "# Get English stop words\n",
    "stop_words = set(stopwords.words('english'))\n"
   ]
  },
  {
   "cell_type": "code",
   "execution_count": 35,
   "id": "e29fdf2b",
   "metadata": {},
   "outputs": [],
   "source": [
    "# Remove stop words from txt\n",
    "filtered_txt = [word for word in tokens if word.lower() not in stop_words]\n",
    "filtered_txt = [word for word in tokens if word.lower() not in string.punctuation]"
   ]
  },
  {
   "cell_type": "code",
   "execution_count": 36,
   "id": "7c4f5f06",
   "metadata": {},
   "outputs": [
    {
     "name": "stdout",
     "output_type": "stream",
     "text": [
      "Original Text:\n",
      "U.S. President Donald Trump Quietly Signs Law To Allow Warrantless Searches In Parts Of VA, DC and MDBy Aaron Kesel\n",
      "As former White House chief of staff and current Chicago Mayor Rahm Emanuel has said: “You never let a serious crisis go to waste.” While everyone was worried about the hurricanes, U.S. President Donald Trump signed away the Fourth Amendment buried in a new bill. He set a precedent by empowering the police state to allow warrantless searches in parts of VA, MD and D.C. near the Metro train system.\n",
      "The government can now openly enter and search private property without a warrant in parts of Virginia, Maryland and D.C.\n",
      "The House Joint Resolution 76 was signed into law on Tuesday, Aug. 22, by President Trump. The text is rather boring, starting off with: “Granting the consent and approval of Congress for the Commonwealth of Virginia, the State of Maryland, and the District of Columbia to enter into a compact relating to the establishment of the Washington Metrorail Safety Commission.”\n",
      "CNN explained, “This law lets Virginia, Maryland and the District of Columbia form a new panel called the Washington Metrorail Safety Commission to oversee the safety of the D.C.-area public transportation Metro train system.”\n",
      "The new safety commission will take over from the current Federal Transit Agency (FTA), which has been in charge of safety oversight for the Washington Metropolitan Area Interstate Compact (WMATA) since October 2015.\n",
      "“We’ll set this up and get the FTA out of Metro. They are happy to get out, and we’re happy to get them out,” Metro Board of Directors Chair Jack Evans told Bloomberg BNA. “I’m glad we got this thing. If nothing else, we’ll get our money.”\n",
      "However, buried within the bill’s text is a daunting “one major red flag” that would give the newly formed commission “the authority to enter property near the Metro Rail System ‘without limitation’ and without a warrant, for the purpose of ‘making inspections, investigations, examinations, and testing,” The Free Thought Project reported.\n",
      "The legislation reads:\n",
      "In performing its duties, the Commission, through its Board or designated employees or agents, may: Enter upon the WMATA Rail System and, upon reasonable notice and a finding by the chief executive officer that a need exists, upon any lands, waters, and premises adjacent to the WMATA Rail System, including, without limitation, property owned or occupied by the federal government, for the purpose of making inspections, investigations, examinations, and testing as the Commission may deem necessary to carry out the purposes of this MSC Compact, and such entry shall not be deemed a trespass.\n",
      "Only five Congressman voted against the bill according to U.S. Rep Justin Amash (R-Mich.) while three hundred ninety-nine gave their approval, and 29 didn’t bother to vote at all. Apparently, our elected officials can’t be bothered to stand up for the rights of we the people or the Constitution they swore to protect. After all, the Fourth Amendment doesn’t exist, which protects Americans from unreasonable searches and seizures or anything. As Amash pointed out, the government will now be able to kick in the doors of any private property surrounding the border of the DC Metro Rail System without needing a warrant based on any probable cause.\n",
      "Only 5 of us voted against bill allowing govt to enter/search private property in parts of VA, MD & DC w/o warrant. https://t.co/SVhTWqbPaB — Justin Amash (@justinamash) July 18, 2017 FREE Stormproof, Waterproof Survival Match Kit (Ad)\n",
      "A scary prospect indeed, as Rachel Blevins wrote for The Free Thought Project, “While it may only affect the Washington, D.C., metro area now, it could be laying the blueprint for future legislation across the country.”\n",
      "Aaron Kesel writes for Activist Post and is Director of Content for Coinivore. Follow Aaron at Twitter and Steemit.\n",
      "This article is Creative Commons and can be republished in full with attribution. Like Activist Post on Facebook, subscribe on YouTube, follow on Twitter and at Steemit.\n",
      "Image Credit: The Anti-Media\n",
      "\n",
      "Text after removing stop words:\n",
      "['U.S.', 'President', 'Donald', 'Trump', 'Quietly', 'Signs', 'Law', 'To', 'Allow', 'Warrantless', 'Searches', 'In', 'Parts', 'Of', 'VA', 'DC', 'and', 'MDBy', 'Aaron', 'Kesel', 'As', 'former', 'White', 'House', 'chief', 'of', 'staff', 'and', 'current', 'Chicago', 'Mayor', 'Rahm', 'Emanuel', 'has', 'said', '“', 'You', 'never', 'let', 'a', 'serious', 'crisis', 'go', 'to', 'waste.', '”', 'While', 'everyone', 'was', 'worried', 'about', 'the', 'hurricanes', 'U.S.', 'President', 'Donald', 'Trump', 'signed', 'away', 'the', 'Fourth', 'Amendment', 'buried', 'in', 'a', 'new', 'bill', 'He', 'set', 'a', 'precedent', 'by', 'empowering', 'the', 'police', 'state', 'to', 'allow', 'warrantless', 'searches', 'in', 'parts', 'of', 'VA', 'MD', 'and', 'D.C.', 'near', 'the', 'Metro', 'train', 'system', 'The', 'government', 'can', 'now', 'openly', 'enter', 'and', 'search', 'private', 'property', 'without', 'a', 'warrant', 'in', 'parts', 'of', 'Virginia', 'Maryland', 'and', 'D.C', 'The', 'House', 'Joint', 'Resolution', '76', 'was', 'signed', 'into', 'law', 'on', 'Tuesday', 'Aug.', '22', 'by', 'President', 'Trump', 'The', 'text', 'is', 'rather', 'boring', 'starting', 'off', 'with', '“', 'Granting', 'the', 'consent', 'and', 'approval', 'of', 'Congress', 'for', 'the', 'Commonwealth', 'of', 'Virginia', 'the', 'State', 'of', 'Maryland', 'and', 'the', 'District', 'of', 'Columbia', 'to', 'enter', 'into', 'a', 'compact', 'relating', 'to', 'the', 'establishment', 'of', 'the', 'Washington', 'Metrorail', 'Safety', 'Commission.', '”', 'CNN', 'explained', '“', 'This', 'law', 'lets', 'Virginia', 'Maryland', 'and', 'the', 'District', 'of', 'Columbia', 'form', 'a', 'new', 'panel', 'called', 'the', 'Washington', 'Metrorail', 'Safety', 'Commission', 'to', 'oversee', 'the', 'safety', 'of', 'the', 'D.C.-area', 'public', 'transportation', 'Metro', 'train', 'system.', '”', 'The', 'new', 'safety', 'commission', 'will', 'take', 'over', 'from', 'the', 'current', 'Federal', 'Transit', 'Agency', 'FTA', 'which', 'has', 'been', 'in', 'charge', 'of', 'safety', 'oversight', 'for', 'the', 'Washington', 'Metropolitan', 'Area', 'Interstate', 'Compact', 'WMATA', 'since', 'October', '2015', '“', 'We', '’', 'll', 'set', 'this', 'up', 'and', 'get', 'the', 'FTA', 'out', 'of', 'Metro', 'They', 'are', 'happy', 'to', 'get', 'out', 'and', 'we', '’', 're', 'happy', 'to', 'get', 'them', 'out', '”', 'Metro', 'Board', 'of', 'Directors', 'Chair', 'Jack', 'Evans', 'told', 'Bloomberg', 'BNA', '“', 'I', '’', 'm', 'glad', 'we', 'got', 'this', 'thing', 'If', 'nothing', 'else', 'we', '’', 'll', 'get', 'our', 'money.', '”', 'However', 'buried', 'within', 'the', 'bill', '’', 's', 'text', 'is', 'a', 'daunting', '“', 'one', 'major', 'red', 'flag', '”', 'that', 'would', 'give', 'the', 'newly', 'formed', 'commission', '“', 'the', 'authority', 'to', 'enter', 'property', 'near', 'the', 'Metro', 'Rail', 'System', '‘', 'without', 'limitation', '’', 'and', 'without', 'a', 'warrant', 'for', 'the', 'purpose', 'of', '‘', 'making', 'inspections', 'investigations', 'examinations', 'and', 'testing', '”', 'The', 'Free', 'Thought', 'Project', 'reported', 'The', 'legislation', 'reads', 'In', 'performing', 'its', 'duties', 'the', 'Commission', 'through', 'its', 'Board', 'or', 'designated', 'employees', 'or', 'agents', 'may', 'Enter', 'upon', 'the', 'WMATA', 'Rail', 'System', 'and', 'upon', 'reasonable', 'notice', 'and', 'a', 'finding', 'by', 'the', 'chief', 'executive', 'officer', 'that', 'a', 'need', 'exists', 'upon', 'any', 'lands', 'waters', 'and', 'premises', 'adjacent', 'to', 'the', 'WMATA', 'Rail', 'System', 'including', 'without', 'limitation', 'property', 'owned', 'or', 'occupied', 'by', 'the', 'federal', 'government', 'for', 'the', 'purpose', 'of', 'making', 'inspections', 'investigations', 'examinations', 'and', 'testing', 'as', 'the', 'Commission', 'may', 'deem', 'necessary', 'to', 'carry', 'out', 'the', 'purposes', 'of', 'this', 'MSC', 'Compact', 'and', 'such', 'entry', 'shall', 'not', 'be', 'deemed', 'a', 'trespass', 'Only', 'five', 'Congressman', 'voted', 'against', 'the', 'bill', 'according', 'to', 'U.S.', 'Rep', 'Justin', 'Amash', 'R-Mich.', 'while', 'three', 'hundred', 'ninety-nine', 'gave', 'their', 'approval', 'and', '29', 'didn', '’', 't', 'bother', 'to', 'vote', 'at', 'all', 'Apparently', 'our', 'elected', 'officials', 'can', '’', 't', 'be', 'bothered', 'to', 'stand', 'up', 'for', 'the', 'rights', 'of', 'we', 'the', 'people', 'or', 'the', 'Constitution', 'they', 'swore', 'to', 'protect', 'After', 'all', 'the', 'Fourth', 'Amendment', 'doesn', '’', 't', 'exist', 'which', 'protects', 'Americans', 'from', 'unreasonable', 'searches', 'and', 'seizures', 'or', 'anything', 'As', 'Amash', 'pointed', 'out', 'the', 'government', 'will', 'now', 'be', 'able', 'to', 'kick', 'in', 'the', 'doors', 'of', 'any', 'private', 'property', 'surrounding', 'the', 'border', 'of', 'the', 'DC', 'Metro', 'Rail', 'System', 'without', 'needing', 'a', 'warrant', 'based', 'on', 'any', 'probable', 'cause', 'Only', '5', 'of', 'us', 'voted', 'against', 'bill', 'allowing', 'govt', 'to', 'enter/search', 'private', 'property', 'in', 'parts', 'of', 'VA', 'MD', 'DC', 'w/o', 'warrant', 'https', '//t.co/SVhTWqbPaB', '—', 'Justin', 'Amash', 'justinamash', 'July', '18', '2017', 'FREE', 'Stormproof', 'Waterproof', 'Survival', 'Match', 'Kit', 'Ad', 'A', 'scary', 'prospect', 'indeed', 'as', 'Rachel', 'Blevins', 'wrote', 'for', 'The', 'Free', 'Thought', 'Project', '“', 'While', 'it', 'may', 'only', 'affect', 'the', 'Washington', 'D.C.', 'metro', 'area', 'now', 'it', 'could', 'be', 'laying', 'the', 'blueprint', 'for', 'future', 'legislation', 'across', 'the', 'country.', '”', 'Aaron', 'Kesel', 'writes', 'for', 'Activist', 'Post', 'and', 'is', 'Director', 'of', 'Content', 'for', 'Coinivore', 'Follow', 'Aaron', 'at', 'Twitter', 'and', 'Steemit', 'This', 'article', 'is', 'Creative', 'Commons', 'and', 'can', 'be', 'republished', 'in', 'full', 'with', 'attribution', 'Like', 'Activist', 'Post', 'on', 'Facebook', 'subscribe', 'on', 'YouTube', 'follow', 'on', 'Twitter', 'and', 'at', 'Steemit', 'Image', 'Credit', 'The', 'Anti-Media']\n"
     ]
    }
   ],
   "source": [
    "# Print the ________original and ______filtered text\n",
    "print(\"Original Text:\")\n",
    "print(txt)\n",
    "print(\"\\nText after removing stop words:\")\n",
    "print(filtered_txt)"
   ]
  },
  {
   "cell_type": "markdown",
   "id": "f2fc5686",
   "metadata": {},
   "source": [
    "# stemming  \n",
    "#note stemming is NLP techniq used to reduce words to their root or  base form\n",
    "\n",
    "#remove ---->suffix or prefix \n"
   ]
  },
  {
   "cell_type": "code",
   "execution_count": 37,
   "id": "6ef92098",
   "metadata": {},
   "outputs": [
    {
     "name": "stdout",
     "output_type": "stream",
     "text": [
      "U.S.---->u.s.\n",
      "President---->presid\n",
      "Donald---->donald\n",
      "Trump---->trump\n",
      "Quietly---->quietli\n",
      "Signs---->sign\n",
      "Law---->law\n",
      "To---->to\n",
      "Allow---->allow\n",
      "Warrantless---->warrantless\n",
      "Searches---->search\n",
      "In---->in\n",
      "Parts---->part\n",
      "Of---->of\n",
      "VA---->va\n",
      "DC---->dc\n",
      "and---->and\n",
      "MDBy---->mdbi\n",
      "Aaron---->aaron\n",
      "Kesel---->kesel\n",
      "As---->as\n",
      "former---->former\n",
      "White---->white\n",
      "House---->hous\n",
      "chief---->chief\n",
      "of---->of\n",
      "staff---->staff\n",
      "and---->and\n",
      "current---->current\n",
      "Chicago---->chicago\n",
      "Mayor---->mayor\n",
      "Rahm---->rahm\n",
      "Emanuel---->emanuel\n",
      "has---->ha\n",
      "said---->said\n",
      "“---->“\n",
      "You---->you\n",
      "never---->never\n",
      "let---->let\n",
      "a---->a\n",
      "serious---->seriou\n",
      "crisis---->crisi\n",
      "go---->go\n",
      "to---->to\n",
      "waste.---->waste.\n",
      "”---->”\n",
      "While---->while\n",
      "everyone---->everyon\n",
      "was---->wa\n",
      "worried---->worri\n",
      "about---->about\n",
      "the---->the\n",
      "hurricanes---->hurrican\n",
      "U.S.---->u.s.\n",
      "President---->presid\n",
      "Donald---->donald\n",
      "Trump---->trump\n",
      "signed---->sign\n",
      "away---->away\n",
      "the---->the\n",
      "Fourth---->fourth\n",
      "Amendment---->amend\n",
      "buried---->buri\n",
      "in---->in\n",
      "a---->a\n",
      "new---->new\n",
      "bill---->bill\n",
      "He---->he\n",
      "set---->set\n",
      "a---->a\n",
      "precedent---->preced\n",
      "by---->by\n",
      "empowering---->empow\n",
      "the---->the\n",
      "police---->polic\n",
      "state---->state\n",
      "to---->to\n",
      "allow---->allow\n",
      "warrantless---->warrantless\n",
      "searches---->search\n",
      "in---->in\n",
      "parts---->part\n",
      "of---->of\n",
      "VA---->va\n",
      "MD---->md\n",
      "and---->and\n",
      "D.C.---->d.c.\n",
      "near---->near\n",
      "the---->the\n",
      "Metro---->metro\n",
      "train---->train\n",
      "system---->system\n",
      "The---->the\n",
      "government---->govern\n",
      "can---->can\n",
      "now---->now\n",
      "openly---->openli\n",
      "enter---->enter\n",
      "and---->and\n",
      "search---->search\n",
      "private---->privat\n",
      "property---->properti\n",
      "without---->without\n",
      "a---->a\n",
      "warrant---->warrant\n",
      "in---->in\n",
      "parts---->part\n",
      "of---->of\n",
      "Virginia---->virginia\n",
      "Maryland---->maryland\n",
      "and---->and\n",
      "D.C---->d.c\n",
      "The---->the\n",
      "House---->hous\n",
      "Joint---->joint\n",
      "Resolution---->resolut\n",
      "76---->76\n",
      "was---->wa\n",
      "signed---->sign\n",
      "into---->into\n",
      "law---->law\n",
      "on---->on\n",
      "Tuesday---->tuesday\n",
      "Aug.---->aug.\n",
      "22---->22\n",
      "by---->by\n",
      "President---->presid\n",
      "Trump---->trump\n",
      "The---->the\n",
      "text---->text\n",
      "is---->is\n",
      "rather---->rather\n",
      "boring---->bore\n",
      "starting---->start\n",
      "off---->off\n",
      "with---->with\n",
      "“---->“\n",
      "Granting---->grant\n",
      "the---->the\n",
      "consent---->consent\n",
      "and---->and\n",
      "approval---->approv\n",
      "of---->of\n",
      "Congress---->congress\n",
      "for---->for\n",
      "the---->the\n",
      "Commonwealth---->commonwealth\n",
      "of---->of\n",
      "Virginia---->virginia\n",
      "the---->the\n",
      "State---->state\n",
      "of---->of\n",
      "Maryland---->maryland\n",
      "and---->and\n",
      "the---->the\n",
      "District---->district\n",
      "of---->of\n",
      "Columbia---->columbia\n",
      "to---->to\n",
      "enter---->enter\n",
      "into---->into\n",
      "a---->a\n",
      "compact---->compact\n",
      "relating---->relat\n",
      "to---->to\n",
      "the---->the\n",
      "establishment---->establish\n",
      "of---->of\n",
      "the---->the\n",
      "Washington---->washington\n",
      "Metrorail---->metrorail\n",
      "Safety---->safeti\n",
      "Commission.---->commission.\n",
      "”---->”\n",
      "CNN---->cnn\n",
      "explained---->explain\n",
      "“---->“\n",
      "This---->thi\n",
      "law---->law\n",
      "lets---->let\n",
      "Virginia---->virginia\n",
      "Maryland---->maryland\n",
      "and---->and\n",
      "the---->the\n",
      "District---->district\n",
      "of---->of\n",
      "Columbia---->columbia\n",
      "form---->form\n",
      "a---->a\n",
      "new---->new\n",
      "panel---->panel\n",
      "called---->call\n",
      "the---->the\n",
      "Washington---->washington\n",
      "Metrorail---->metrorail\n",
      "Safety---->safeti\n",
      "Commission---->commiss\n",
      "to---->to\n",
      "oversee---->overse\n",
      "the---->the\n",
      "safety---->safeti\n",
      "of---->of\n",
      "the---->the\n",
      "D.C.-area---->d.c.-area\n",
      "public---->public\n",
      "transportation---->transport\n",
      "Metro---->metro\n",
      "train---->train\n",
      "system.---->system.\n",
      "”---->”\n",
      "The---->the\n",
      "new---->new\n",
      "safety---->safeti\n",
      "commission---->commiss\n",
      "will---->will\n",
      "take---->take\n",
      "over---->over\n",
      "from---->from\n",
      "the---->the\n",
      "current---->current\n",
      "Federal---->feder\n",
      "Transit---->transit\n",
      "Agency---->agenc\n",
      "FTA---->fta\n",
      "which---->which\n",
      "has---->ha\n",
      "been---->been\n",
      "in---->in\n",
      "charge---->charg\n",
      "of---->of\n",
      "safety---->safeti\n",
      "oversight---->oversight\n",
      "for---->for\n",
      "the---->the\n",
      "Washington---->washington\n",
      "Metropolitan---->metropolitan\n",
      "Area---->area\n",
      "Interstate---->interst\n",
      "Compact---->compact\n",
      "WMATA---->wmata\n",
      "since---->sinc\n",
      "October---->octob\n",
      "2015---->2015\n",
      "“---->“\n",
      "We---->we\n",
      "’---->’\n",
      "ll---->ll\n",
      "set---->set\n",
      "this---->thi\n",
      "up---->up\n",
      "and---->and\n",
      "get---->get\n",
      "the---->the\n",
      "FTA---->fta\n",
      "out---->out\n",
      "of---->of\n",
      "Metro---->metro\n",
      "They---->they\n",
      "are---->are\n",
      "happy---->happi\n",
      "to---->to\n",
      "get---->get\n",
      "out---->out\n",
      "and---->and\n",
      "we---->we\n",
      "’---->’\n",
      "re---->re\n",
      "happy---->happi\n",
      "to---->to\n",
      "get---->get\n",
      "them---->them\n",
      "out---->out\n",
      "”---->”\n",
      "Metro---->metro\n",
      "Board---->board\n",
      "of---->of\n",
      "Directors---->director\n",
      "Chair---->chair\n",
      "Jack---->jack\n",
      "Evans---->evan\n",
      "told---->told\n",
      "Bloomberg---->bloomberg\n",
      "BNA---->bna\n",
      "“---->“\n",
      "I---->i\n",
      "’---->’\n",
      "m---->m\n",
      "glad---->glad\n",
      "we---->we\n",
      "got---->got\n",
      "this---->thi\n",
      "thing---->thing\n",
      "If---->if\n",
      "nothing---->noth\n",
      "else---->els\n",
      "we---->we\n",
      "’---->’\n",
      "ll---->ll\n",
      "get---->get\n",
      "our---->our\n",
      "money.---->money.\n",
      "”---->”\n",
      "However---->howev\n",
      "buried---->buri\n",
      "within---->within\n",
      "the---->the\n",
      "bill---->bill\n",
      "’---->’\n",
      "s---->s\n",
      "text---->text\n",
      "is---->is\n",
      "a---->a\n",
      "daunting---->daunt\n",
      "“---->“\n",
      "one---->one\n",
      "major---->major\n",
      "red---->red\n",
      "flag---->flag\n",
      "”---->”\n",
      "that---->that\n",
      "would---->would\n",
      "give---->give\n",
      "the---->the\n",
      "newly---->newli\n",
      "formed---->form\n",
      "commission---->commiss\n",
      "“---->“\n",
      "the---->the\n",
      "authority---->author\n",
      "to---->to\n",
      "enter---->enter\n",
      "property---->properti\n",
      "near---->near\n",
      "the---->the\n",
      "Metro---->metro\n",
      "Rail---->rail\n",
      "System---->system\n",
      "‘---->‘\n",
      "without---->without\n",
      "limitation---->limit\n",
      "’---->’\n",
      "and---->and\n",
      "without---->without\n",
      "a---->a\n",
      "warrant---->warrant\n",
      "for---->for\n",
      "the---->the\n",
      "purpose---->purpos\n",
      "of---->of\n",
      "‘---->‘\n",
      "making---->make\n",
      "inspections---->inspect\n",
      "investigations---->investig\n",
      "examinations---->examin\n",
      "and---->and\n",
      "testing---->test\n",
      "”---->”\n",
      "The---->the\n",
      "Free---->free\n",
      "Thought---->thought\n",
      "Project---->project\n",
      "reported---->report\n",
      "The---->the\n",
      "legislation---->legisl\n",
      "reads---->read\n",
      "In---->in\n",
      "performing---->perform\n",
      "its---->it\n",
      "duties---->duti\n",
      "the---->the\n",
      "Commission---->commiss\n",
      "through---->through\n",
      "its---->it\n",
      "Board---->board\n",
      "or---->or\n",
      "designated---->design\n",
      "employees---->employe\n",
      "or---->or\n",
      "agents---->agent\n",
      "may---->may\n",
      "Enter---->enter\n",
      "upon---->upon\n",
      "the---->the\n",
      "WMATA---->wmata\n",
      "Rail---->rail\n",
      "System---->system\n",
      "and---->and\n",
      "upon---->upon\n",
      "reasonable---->reason\n",
      "notice---->notic\n",
      "and---->and\n",
      "a---->a\n",
      "finding---->find\n",
      "by---->by\n",
      "the---->the\n",
      "chief---->chief\n",
      "executive---->execut\n",
      "officer---->offic\n",
      "that---->that\n",
      "a---->a\n",
      "need---->need\n",
      "exists---->exist\n",
      "upon---->upon\n",
      "any---->ani\n",
      "lands---->land\n",
      "waters---->water\n",
      "and---->and\n",
      "premises---->premis\n",
      "adjacent---->adjac\n",
      "to---->to\n",
      "the---->the\n",
      "WMATA---->wmata\n",
      "Rail---->rail\n",
      "System---->system\n",
      "including---->includ\n",
      "without---->without\n",
      "limitation---->limit\n",
      "property---->properti\n",
      "owned---->own\n",
      "or---->or\n",
      "occupied---->occupi\n",
      "by---->by\n",
      "the---->the\n",
      "federal---->feder\n",
      "government---->govern\n",
      "for---->for\n",
      "the---->the\n",
      "purpose---->purpos\n",
      "of---->of\n",
      "making---->make\n",
      "inspections---->inspect\n",
      "investigations---->investig\n",
      "examinations---->examin\n",
      "and---->and\n",
      "testing---->test\n",
      "as---->as\n",
      "the---->the\n",
      "Commission---->commiss\n",
      "may---->may\n",
      "deem---->deem\n",
      "necessary---->necessari\n",
      "to---->to\n",
      "carry---->carri\n",
      "out---->out\n",
      "the---->the\n",
      "purposes---->purpos\n",
      "of---->of\n",
      "this---->thi\n",
      "MSC---->msc\n",
      "Compact---->compact\n",
      "and---->and\n",
      "such---->such\n",
      "entry---->entri\n",
      "shall---->shall\n",
      "not---->not\n",
      "be---->be\n",
      "deemed---->deem\n",
      "a---->a\n",
      "trespass---->trespass\n",
      "Only---->onli\n",
      "five---->five\n",
      "Congressman---->congressman\n",
      "voted---->vote\n",
      "against---->against\n",
      "the---->the\n",
      "bill---->bill\n",
      "according---->accord\n",
      "to---->to\n",
      "U.S.---->u.s.\n",
      "Rep---->rep\n",
      "Justin---->justin\n",
      "Amash---->amash\n",
      "R-Mich.---->r-mich.\n",
      "while---->while\n",
      "three---->three\n",
      "hundred---->hundr\n",
      "ninety-nine---->ninety-nin\n",
      "gave---->gave\n",
      "their---->their\n",
      "approval---->approv\n",
      "and---->and\n",
      "29---->29\n",
      "didn---->didn\n",
      "’---->’\n",
      "t---->t\n",
      "bother---->bother\n",
      "to---->to\n",
      "vote---->vote\n",
      "at---->at\n",
      "all---->all\n",
      "Apparently---->appar\n",
      "our---->our\n",
      "elected---->elect\n",
      "officials---->offici\n",
      "can---->can\n",
      "’---->’\n",
      "t---->t\n",
      "be---->be\n",
      "bothered---->bother\n",
      "to---->to\n",
      "stand---->stand\n",
      "up---->up\n",
      "for---->for\n",
      "the---->the\n",
      "rights---->right\n",
      "of---->of\n",
      "we---->we\n",
      "the---->the\n",
      "people---->peopl\n",
      "or---->or\n",
      "the---->the\n",
      "Constitution---->constitut\n",
      "they---->they\n",
      "swore---->swore\n",
      "to---->to\n",
      "protect---->protect\n",
      "After---->after\n",
      "all---->all\n",
      "the---->the\n",
      "Fourth---->fourth\n",
      "Amendment---->amend\n",
      "doesn---->doesn\n",
      "’---->’\n",
      "t---->t\n",
      "exist---->exist\n",
      "which---->which\n",
      "protects---->protect\n",
      "Americans---->american\n",
      "from---->from\n",
      "unreasonable---->unreason\n",
      "searches---->search\n",
      "and---->and\n",
      "seizures---->seizur\n",
      "or---->or\n",
      "anything---->anyth\n",
      "As---->as\n",
      "Amash---->amash\n",
      "pointed---->point\n",
      "out---->out\n",
      "the---->the\n",
      "government---->govern\n",
      "will---->will\n",
      "now---->now\n",
      "be---->be\n",
      "able---->abl\n",
      "to---->to\n",
      "kick---->kick\n",
      "in---->in\n",
      "the---->the\n",
      "doors---->door\n",
      "of---->of\n",
      "any---->ani\n",
      "private---->privat\n",
      "property---->properti\n",
      "surrounding---->surround\n",
      "the---->the\n",
      "border---->border\n",
      "of---->of\n",
      "the---->the\n",
      "DC---->dc\n",
      "Metro---->metro\n",
      "Rail---->rail\n",
      "System---->system\n",
      "without---->without\n",
      "needing---->need\n",
      "a---->a\n",
      "warrant---->warrant\n",
      "based---->base\n",
      "on---->on\n",
      "any---->ani\n",
      "probable---->probabl\n",
      "cause---->caus\n",
      "Only---->onli\n",
      "5---->5\n",
      "of---->of\n",
      "us---->us\n",
      "voted---->vote\n",
      "against---->against\n",
      "bill---->bill\n",
      "allowing---->allow\n",
      "govt---->govt\n",
      "to---->to\n",
      "enter/search---->enter/search\n",
      "private---->privat\n",
      "property---->properti\n",
      "in---->in\n",
      "parts---->part\n",
      "of---->of\n",
      "VA---->va\n",
      "MD---->md\n",
      "DC---->dc\n",
      "w/o---->w/o\n",
      "warrant---->warrant\n",
      "https---->http\n",
      "//t.co/SVhTWqbPaB---->//t.co/svhtwqbpab\n",
      "—---->—\n",
      "Justin---->justin\n",
      "Amash---->amash\n",
      "justinamash---->justinamash\n",
      "July---->juli\n",
      "18---->18\n",
      "2017---->2017\n",
      "FREE---->free\n",
      "Stormproof---->stormproof\n",
      "Waterproof---->waterproof\n",
      "Survival---->surviv\n",
      "Match---->match\n",
      "Kit---->kit\n",
      "Ad---->ad\n",
      "A---->a\n",
      "scary---->scari\n",
      "prospect---->prospect\n",
      "indeed---->inde\n",
      "as---->as\n",
      "Rachel---->rachel\n",
      "Blevins---->blevin\n",
      "wrote---->wrote\n",
      "for---->for\n",
      "The---->the\n",
      "Free---->free\n",
      "Thought---->thought\n",
      "Project---->project\n",
      "“---->“\n",
      "While---->while\n",
      "it---->it\n",
      "may---->may\n",
      "only---->onli\n",
      "affect---->affect\n",
      "the---->the\n",
      "Washington---->washington\n",
      "D.C.---->d.c.\n",
      "metro---->metro\n",
      "area---->area\n",
      "now---->now\n",
      "it---->it\n",
      "could---->could\n",
      "be---->be\n",
      "laying---->lay\n",
      "the---->the\n",
      "blueprint---->blueprint\n",
      "for---->for\n",
      "future---->futur\n",
      "legislation---->legisl\n",
      "across---->across\n",
      "the---->the\n",
      "country.---->country.\n",
      "”---->”\n",
      "Aaron---->aaron\n",
      "Kesel---->kesel\n",
      "writes---->write\n",
      "for---->for\n",
      "Activist---->activist\n",
      "Post---->post\n",
      "and---->and\n",
      "is---->is\n",
      "Director---->director\n",
      "of---->of\n",
      "Content---->content\n",
      "for---->for\n",
      "Coinivore---->coinivor\n",
      "Follow---->follow\n",
      "Aaron---->aaron\n",
      "at---->at\n",
      "Twitter---->twitter\n",
      "and---->and\n",
      "Steemit---->steemit\n",
      "This---->thi\n",
      "article---->articl\n",
      "is---->is\n",
      "Creative---->creativ\n",
      "Commons---->common\n",
      "and---->and\n",
      "can---->can\n",
      "be---->be\n",
      "republished---->republish\n",
      "in---->in\n",
      "full---->full\n",
      "with---->with\n",
      "attribution---->attribut\n",
      "Like---->like\n",
      "Activist---->activist\n",
      "Post---->post\n",
      "on---->on\n",
      "Facebook---->facebook\n",
      "subscribe---->subscrib\n",
      "on---->on\n",
      "YouTube---->youtub\n",
      "follow---->follow\n",
      "on---->on\n",
      "Twitter---->twitter\n",
      "and---->and\n",
      "at---->at\n",
      "Steemit---->steemit\n",
      "Image---->imag\n",
      "Credit---->credit\n",
      "The---->the\n",
      "Anti-Media---->anti-media\n"
     ]
    }
   ],
   "source": [
    "#The stemmed version of each word is printed alongside its original form.\n",
    "#create a stemmer obj \n",
    "stemmer=PorterStemmer()\n",
    "#stem some exmple words on txt\n",
    "for word in filtered_txt:\n",
    "    stemmed_word=stemmer.stem(word)\n",
    "    print(f\"{word}---->{stemmed_word}\")"
   ]
  },
  {
   "cell_type": "markdown",
   "id": "6ff1b4f6",
   "metadata": {},
   "source": [
    "# lemmatization"
   ]
  },
  {
   "cell_type": "code",
   "execution_count": 38,
   "id": "c69ee7ea",
   "metadata": {},
   "outputs": [],
   "source": [
    "# Create a WordNet lemmatizer obj \n",
    "lemmatizer = WordNetLemmatizer()\n",
    "\n",
    "# Apply lemmatization to each word in txt\n",
    "lemmatized_txt = [lemmatizer.lemmatize(word) for word in filtered_txt]\n"
   ]
  },
  {
   "cell_type": "code",
   "execution_count": 39,
   "id": "bca6dddb",
   "metadata": {},
   "outputs": [
    {
     "name": "stdout",
     "output_type": "stream",
     "text": [
      "Original Text:\n",
      "U.S. President Donald Trump Quietly Signs Law To Allow Warrantless Searches In Parts Of VA, DC and MDBy Aaron Kesel\n",
      "As former White House chief of staff and current Chicago Mayor Rahm Emanuel has said: “You never let a serious crisis go to waste.” While everyone was worried about the hurricanes, U.S. President Donald Trump signed away the Fourth Amendment buried in a new bill. He set a precedent by empowering the police state to allow warrantless searches in parts of VA, MD and D.C. near the Metro train system.\n",
      "The government can now openly enter and search private property without a warrant in parts of Virginia, Maryland and D.C.\n",
      "The House Joint Resolution 76 was signed into law on Tuesday, Aug. 22, by President Trump. The text is rather boring, starting off with: “Granting the consent and approval of Congress for the Commonwealth of Virginia, the State of Maryland, and the District of Columbia to enter into a compact relating to the establishment of the Washington Metrorail Safety Commission.”\n",
      "CNN explained, “This law lets Virginia, Maryland and the District of Columbia form a new panel called the Washington Metrorail Safety Commission to oversee the safety of the D.C.-area public transportation Metro train system.”\n",
      "The new safety commission will take over from the current Federal Transit Agency (FTA), which has been in charge of safety oversight for the Washington Metropolitan Area Interstate Compact (WMATA) since October 2015.\n",
      "“We’ll set this up and get the FTA out of Metro. They are happy to get out, and we’re happy to get them out,” Metro Board of Directors Chair Jack Evans told Bloomberg BNA. “I’m glad we got this thing. If nothing else, we’ll get our money.”\n",
      "However, buried within the bill’s text is a daunting “one major red flag” that would give the newly formed commission “the authority to enter property near the Metro Rail System ‘without limitation’ and without a warrant, for the purpose of ‘making inspections, investigations, examinations, and testing,” The Free Thought Project reported.\n",
      "The legislation reads:\n",
      "In performing its duties, the Commission, through its Board or designated employees or agents, may: Enter upon the WMATA Rail System and, upon reasonable notice and a finding by the chief executive officer that a need exists, upon any lands, waters, and premises adjacent to the WMATA Rail System, including, without limitation, property owned or occupied by the federal government, for the purpose of making inspections, investigations, examinations, and testing as the Commission may deem necessary to carry out the purposes of this MSC Compact, and such entry shall not be deemed a trespass.\n",
      "Only five Congressman voted against the bill according to U.S. Rep Justin Amash (R-Mich.) while three hundred ninety-nine gave their approval, and 29 didn’t bother to vote at all. Apparently, our elected officials can’t be bothered to stand up for the rights of we the people or the Constitution they swore to protect. After all, the Fourth Amendment doesn’t exist, which protects Americans from unreasonable searches and seizures or anything. As Amash pointed out, the government will now be able to kick in the doors of any private property surrounding the border of the DC Metro Rail System without needing a warrant based on any probable cause.\n",
      "Only 5 of us voted against bill allowing govt to enter/search private property in parts of VA, MD & DC w/o warrant. https://t.co/SVhTWqbPaB — Justin Amash (@justinamash) July 18, 2017 FREE Stormproof, Waterproof Survival Match Kit (Ad)\n",
      "A scary prospect indeed, as Rachel Blevins wrote for The Free Thought Project, “While it may only affect the Washington, D.C., metro area now, it could be laying the blueprint for future legislation across the country.”\n",
      "Aaron Kesel writes for Activist Post and is Director of Content for Coinivore. Follow Aaron at Twitter and Steemit.\n",
      "This article is Creative Commons and can be republished in full with attribution. Like Activist Post on Facebook, subscribe on YouTube, follow on Twitter and at Steemit.\n",
      "Image Credit: The Anti-Media\n",
      "\n",
      "Text after lemmatization:\n",
      "['U.S.', 'President', 'Donald', 'Trump', 'Quietly', 'Signs', 'Law', 'To', 'Allow', 'Warrantless', 'Searches', 'In', 'Parts', 'Of', 'VA', 'DC', 'and', 'MDBy', 'Aaron', 'Kesel', 'As', 'former', 'White', 'House', 'chief', 'of', 'staff', 'and', 'current', 'Chicago', 'Mayor', 'Rahm', 'Emanuel', 'ha', 'said', '“', 'You', 'never', 'let', 'a', 'serious', 'crisis', 'go', 'to', 'waste.', '”', 'While', 'everyone', 'wa', 'worried', 'about', 'the', 'hurricane', 'U.S.', 'President', 'Donald', 'Trump', 'signed', 'away', 'the', 'Fourth', 'Amendment', 'buried', 'in', 'a', 'new', 'bill', 'He', 'set', 'a', 'precedent', 'by', 'empowering', 'the', 'police', 'state', 'to', 'allow', 'warrantless', 'search', 'in', 'part', 'of', 'VA', 'MD', 'and', 'D.C.', 'near', 'the', 'Metro', 'train', 'system', 'The', 'government', 'can', 'now', 'openly', 'enter', 'and', 'search', 'private', 'property', 'without', 'a', 'warrant', 'in', 'part', 'of', 'Virginia', 'Maryland', 'and', 'D.C', 'The', 'House', 'Joint', 'Resolution', '76', 'wa', 'signed', 'into', 'law', 'on', 'Tuesday', 'Aug.', '22', 'by', 'President', 'Trump', 'The', 'text', 'is', 'rather', 'boring', 'starting', 'off', 'with', '“', 'Granting', 'the', 'consent', 'and', 'approval', 'of', 'Congress', 'for', 'the', 'Commonwealth', 'of', 'Virginia', 'the', 'State', 'of', 'Maryland', 'and', 'the', 'District', 'of', 'Columbia', 'to', 'enter', 'into', 'a', 'compact', 'relating', 'to', 'the', 'establishment', 'of', 'the', 'Washington', 'Metrorail', 'Safety', 'Commission.', '”', 'CNN', 'explained', '“', 'This', 'law', 'let', 'Virginia', 'Maryland', 'and', 'the', 'District', 'of', 'Columbia', 'form', 'a', 'new', 'panel', 'called', 'the', 'Washington', 'Metrorail', 'Safety', 'Commission', 'to', 'oversee', 'the', 'safety', 'of', 'the', 'D.C.-area', 'public', 'transportation', 'Metro', 'train', 'system.', '”', 'The', 'new', 'safety', 'commission', 'will', 'take', 'over', 'from', 'the', 'current', 'Federal', 'Transit', 'Agency', 'FTA', 'which', 'ha', 'been', 'in', 'charge', 'of', 'safety', 'oversight', 'for', 'the', 'Washington', 'Metropolitan', 'Area', 'Interstate', 'Compact', 'WMATA', 'since', 'October', '2015', '“', 'We', '’', 'll', 'set', 'this', 'up', 'and', 'get', 'the', 'FTA', 'out', 'of', 'Metro', 'They', 'are', 'happy', 'to', 'get', 'out', 'and', 'we', '’', 're', 'happy', 'to', 'get', 'them', 'out', '”', 'Metro', 'Board', 'of', 'Directors', 'Chair', 'Jack', 'Evans', 'told', 'Bloomberg', 'BNA', '“', 'I', '’', 'm', 'glad', 'we', 'got', 'this', 'thing', 'If', 'nothing', 'else', 'we', '’', 'll', 'get', 'our', 'money.', '”', 'However', 'buried', 'within', 'the', 'bill', '’', 's', 'text', 'is', 'a', 'daunting', '“', 'one', 'major', 'red', 'flag', '”', 'that', 'would', 'give', 'the', 'newly', 'formed', 'commission', '“', 'the', 'authority', 'to', 'enter', 'property', 'near', 'the', 'Metro', 'Rail', 'System', '‘', 'without', 'limitation', '’', 'and', 'without', 'a', 'warrant', 'for', 'the', 'purpose', 'of', '‘', 'making', 'inspection', 'investigation', 'examination', 'and', 'testing', '”', 'The', 'Free', 'Thought', 'Project', 'reported', 'The', 'legislation', 'read', 'In', 'performing', 'it', 'duty', 'the', 'Commission', 'through', 'it', 'Board', 'or', 'designated', 'employee', 'or', 'agent', 'may', 'Enter', 'upon', 'the', 'WMATA', 'Rail', 'System', 'and', 'upon', 'reasonable', 'notice', 'and', 'a', 'finding', 'by', 'the', 'chief', 'executive', 'officer', 'that', 'a', 'need', 'exists', 'upon', 'any', 'land', 'water', 'and', 'premise', 'adjacent', 'to', 'the', 'WMATA', 'Rail', 'System', 'including', 'without', 'limitation', 'property', 'owned', 'or', 'occupied', 'by', 'the', 'federal', 'government', 'for', 'the', 'purpose', 'of', 'making', 'inspection', 'investigation', 'examination', 'and', 'testing', 'a', 'the', 'Commission', 'may', 'deem', 'necessary', 'to', 'carry', 'out', 'the', 'purpose', 'of', 'this', 'MSC', 'Compact', 'and', 'such', 'entry', 'shall', 'not', 'be', 'deemed', 'a', 'trespass', 'Only', 'five', 'Congressman', 'voted', 'against', 'the', 'bill', 'according', 'to', 'U.S.', 'Rep', 'Justin', 'Amash', 'R-Mich.', 'while', 'three', 'hundred', 'ninety-nine', 'gave', 'their', 'approval', 'and', '29', 'didn', '’', 't', 'bother', 'to', 'vote', 'at', 'all', 'Apparently', 'our', 'elected', 'official', 'can', '’', 't', 'be', 'bothered', 'to', 'stand', 'up', 'for', 'the', 'right', 'of', 'we', 'the', 'people', 'or', 'the', 'Constitution', 'they', 'swore', 'to', 'protect', 'After', 'all', 'the', 'Fourth', 'Amendment', 'doesn', '’', 't', 'exist', 'which', 'protects', 'Americans', 'from', 'unreasonable', 'search', 'and', 'seizure', 'or', 'anything', 'As', 'Amash', 'pointed', 'out', 'the', 'government', 'will', 'now', 'be', 'able', 'to', 'kick', 'in', 'the', 'door', 'of', 'any', 'private', 'property', 'surrounding', 'the', 'border', 'of', 'the', 'DC', 'Metro', 'Rail', 'System', 'without', 'needing', 'a', 'warrant', 'based', 'on', 'any', 'probable', 'cause', 'Only', '5', 'of', 'u', 'voted', 'against', 'bill', 'allowing', 'govt', 'to', 'enter/search', 'private', 'property', 'in', 'part', 'of', 'VA', 'MD', 'DC', 'w/o', 'warrant', 'http', '//t.co/SVhTWqbPaB', '—', 'Justin', 'Amash', 'justinamash', 'July', '18', '2017', 'FREE', 'Stormproof', 'Waterproof', 'Survival', 'Match', 'Kit', 'Ad', 'A', 'scary', 'prospect', 'indeed', 'a', 'Rachel', 'Blevins', 'wrote', 'for', 'The', 'Free', 'Thought', 'Project', '“', 'While', 'it', 'may', 'only', 'affect', 'the', 'Washington', 'D.C.', 'metro', 'area', 'now', 'it', 'could', 'be', 'laying', 'the', 'blueprint', 'for', 'future', 'legislation', 'across', 'the', 'country.', '”', 'Aaron', 'Kesel', 'writes', 'for', 'Activist', 'Post', 'and', 'is', 'Director', 'of', 'Content', 'for', 'Coinivore', 'Follow', 'Aaron', 'at', 'Twitter', 'and', 'Steemit', 'This', 'article', 'is', 'Creative', 'Commons', 'and', 'can', 'be', 'republished', 'in', 'full', 'with', 'attribution', 'Like', 'Activist', 'Post', 'on', 'Facebook', 'subscribe', 'on', 'YouTube', 'follow', 'on', 'Twitter', 'and', 'at', 'Steemit', 'Image', 'Credit', 'The', 'Anti-Media']\n"
     ]
    }
   ],
   "source": [
    "# Print the original and lemmatized text\n",
    "print(\"Original Text:\")\n",
    "print(txt)\n",
    "print(\"\\nText after lemmatization:\")\n",
    "print(lemmatized_txt)"
   ]
  },
  {
   "cell_type": "markdown",
   "id": "133c4134",
   "metadata": {},
   "source": [
    "# Regular Exp \n"
   ]
  },
  {
   "cell_type": "code",
   "execution_count": 40,
   "id": "a5f70c11",
   "metadata": {},
   "outputs": [],
   "source": [
    "#searching and extracting \n",
    "pattern= r\"\\b[A-Za-z0-9._%+-]+@[A-Za-z0-9.-]+\\.[A-Z|a-z]{2,}\\b\"\n",
    "text=txt\n",
    "emails = re.findall(pattern, text)\n",
    "\n"
   ]
  },
  {
   "cell_type": "code",
   "execution_count": 41,
   "id": "2d54e366",
   "metadata": {},
   "outputs": [
    {
     "name": "stdout",
     "output_type": "stream",
     "text": [
      "Email addresses: []\n"
     ]
    }
   ],
   "source": [
    "print(\"Email addresses:\", emails)"
   ]
  },
  {
   "cell_type": "code",
   "execution_count": 42,
   "id": "a4fe00a1",
   "metadata": {},
   "outputs": [
    {
     "name": "stdout",
     "output_type": "stream",
     "text": [
      "Date not found.\n"
     ]
    }
   ],
   "source": [
    "# Matching a date in MM/DD/YYYY format\n",
    "pattern = r\"\\b\\d{2}/\\d{2}/\\d{4}\\b\"\n",
    "\n",
    "text = txt\n",
    "match = re.search(pattern, text)\n",
    "if match:\n",
    "    print(\"Found date:\", match.group())\n",
    "else:\n",
    "    print(\"Date not found.\")"
   ]
  },
  {
   "cell_type": "code",
   "execution_count": 43,
   "id": "9e27a388",
   "metadata": {},
   "outputs": [
    {
     "name": "stdout",
     "output_type": "stream",
     "text": [
      "Words: ['U', 'S', 'President', 'Donald', 'Trump', 'Quietly', 'Signs', 'Law', 'To', 'Allow', 'Warrantless', 'Searches', 'In', 'Parts', 'Of', 'VA', 'DC', 'and', 'MDBy', 'Aaron', 'Kesel', 'As', 'former', 'White', 'House', 'chief', 'of', 'staff', 'and', 'current', 'Chicago', 'Mayor', 'Rahm', 'Emanuel', 'has', 'said', 'You', 'never', 'let', 'a', 'serious', 'crisis', 'go', 'to', 'waste', 'While', 'everyone', 'was', 'worried', 'about', 'the', 'hurricanes', 'U', 'S', 'President', 'Donald', 'Trump', 'signed', 'away', 'the', 'Fourth', 'Amendment', 'buried', 'in', 'a', 'new', 'bill', 'He', 'set', 'a', 'precedent', 'by', 'empowering', 'the', 'police', 'state', 'to', 'allow', 'warrantless', 'searches', 'in', 'parts', 'of', 'VA', 'MD', 'and', 'D', 'C', 'near', 'the', 'Metro', 'train', 'system', 'The', 'government', 'can', 'now', 'openly', 'enter', 'and', 'search', 'private', 'property', 'without', 'a', 'warrant', 'in', 'parts', 'of', 'Virginia', 'Maryland', 'and', 'D', 'C', 'The', 'House', 'Joint', 'Resolution', '76', 'was', 'signed', 'into', 'law', 'on', 'Tuesday', 'Aug', '22', 'by', 'President', 'Trump', 'The', 'text', 'is', 'rather', 'boring', 'starting', 'off', 'with', 'Granting', 'the', 'consent', 'and', 'approval', 'of', 'Congress', 'for', 'the', 'Commonwealth', 'of', 'Virginia', 'the', 'State', 'of', 'Maryland', 'and', 'the', 'District', 'of', 'Columbia', 'to', 'enter', 'into', 'a', 'compact', 'relating', 'to', 'the', 'establishment', 'of', 'the', 'Washington', 'Metrorail', 'Safety', 'Commission', 'CNN', 'explained', 'This', 'law', 'lets', 'Virginia', 'Maryland', 'and', 'the', 'District', 'of', 'Columbia', 'form', 'a', 'new', 'panel', 'called', 'the', 'Washington', 'Metrorail', 'Safety', 'Commission', 'to', 'oversee', 'the', 'safety', 'of', 'the', 'D', 'C', 'area', 'public', 'transportation', 'Metro', 'train', 'system', 'The', 'new', 'safety', 'commission', 'will', 'take', 'over', 'from', 'the', 'current', 'Federal', 'Transit', 'Agency', 'FTA', 'which', 'has', 'been', 'in', 'charge', 'of', 'safety', 'oversight', 'for', 'the', 'Washington', 'Metropolitan', 'Area', 'Interstate', 'Compact', 'WMATA', 'since', 'October', '2015', 'We', 'll', 'set', 'this', 'up', 'and', 'get', 'the', 'FTA', 'out', 'of', 'Metro', 'They', 'are', 'happy', 'to', 'get', 'out', 'and', 'we', 're', 'happy', 'to', 'get', 'them', 'out', 'Metro', 'Board', 'of', 'Directors', 'Chair', 'Jack', 'Evans', 'told', 'Bloomberg', 'BNA', 'I', 'm', 'glad', 'we', 'got', 'this', 'thing', 'If', 'nothing', 'else', 'we', 'll', 'get', 'our', 'money', 'However', 'buried', 'within', 'the', 'bill', 's', 'text', 'is', 'a', 'daunting', 'one', 'major', 'red', 'flag', 'that', 'would', 'give', 'the', 'newly', 'formed', 'commission', 'the', 'authority', 'to', 'enter', 'property', 'near', 'the', 'Metro', 'Rail', 'System', 'without', 'limitation', 'and', 'without', 'a', 'warrant', 'for', 'the', 'purpose', 'of', 'making', 'inspections', 'investigations', 'examinations', 'and', 'testing', 'The', 'Free', 'Thought', 'Project', 'reported', 'The', 'legislation', 'reads', 'In', 'performing', 'its', 'duties', 'the', 'Commission', 'through', 'its', 'Board', 'or', 'designated', 'employees', 'or', 'agents', 'may', 'Enter', 'upon', 'the', 'WMATA', 'Rail', 'System', 'and', 'upon', 'reasonable', 'notice', 'and', 'a', 'finding', 'by', 'the', 'chief', 'executive', 'officer', 'that', 'a', 'need', 'exists', 'upon', 'any', 'lands', 'waters', 'and', 'premises', 'adjacent', 'to', 'the', 'WMATA', 'Rail', 'System', 'including', 'without', 'limitation', 'property', 'owned', 'or', 'occupied', 'by', 'the', 'federal', 'government', 'for', 'the', 'purpose', 'of', 'making', 'inspections', 'investigations', 'examinations', 'and', 'testing', 'as', 'the', 'Commission', 'may', 'deem', 'necessary', 'to', 'carry', 'out', 'the', 'purposes', 'of', 'this', 'MSC', 'Compact', 'and', 'such', 'entry', 'shall', 'not', 'be', 'deemed', 'a', 'trespass', 'Only', 'five', 'Congressman', 'voted', 'against', 'the', 'bill', 'according', 'to', 'U', 'S', 'Rep', 'Justin', 'Amash', 'R', 'Mich', 'while', 'three', 'hundred', 'ninety', 'nine', 'gave', 'their', 'approval', 'and', '29', 'didn', 't', 'bother', 'to', 'vote', 'at', 'all', 'Apparently', 'our', 'elected', 'officials', 'can', 't', 'be', 'bothered', 'to', 'stand', 'up', 'for', 'the', 'rights', 'of', 'we', 'the', 'people', 'or', 'the', 'Constitution', 'they', 'swore', 'to', 'protect', 'After', 'all', 'the', 'Fourth', 'Amendment', 'doesn', 't', 'exist', 'which', 'protects', 'Americans', 'from', 'unreasonable', 'searches', 'and', 'seizures', 'or', 'anything', 'As', 'Amash', 'pointed', 'out', 'the', 'government', 'will', 'now', 'be', 'able', 'to', 'kick', 'in', 'the', 'doors', 'of', 'any', 'private', 'property', 'surrounding', 'the', 'border', 'of', 'the', 'DC', 'Metro', 'Rail', 'System', 'without', 'needing', 'a', 'warrant', 'based', 'on', 'any', 'probable', 'cause', 'Only', '5', 'of', 'us', 'voted', 'against', 'bill', 'allowing', 'govt', 'to', 'enter', 'search', 'private', 'property', 'in', 'parts', 'of', 'VA', 'MD', 'DC', 'w', 'o', 'warrant', 'https', 't', 'co', 'SVhTWqbPaB', 'Justin', 'Amash', 'justinamash', 'July', '18', '2017', 'FREE', 'Stormproof', 'Waterproof', 'Survival', 'Match', 'Kit', 'Ad', 'A', 'scary', 'prospect', 'indeed', 'as', 'Rachel', 'Blevins', 'wrote', 'for', 'The', 'Free', 'Thought', 'Project', 'While', 'it', 'may', 'only', 'affect', 'the', 'Washington', 'D', 'C', 'metro', 'area', 'now', 'it', 'could', 'be', 'laying', 'the', 'blueprint', 'for', 'future', 'legislation', 'across', 'the', 'country', 'Aaron', 'Kesel', 'writes', 'for', 'Activist', 'Post', 'and', 'is', 'Director', 'of', 'Content', 'for', 'Coinivore', 'Follow', 'Aaron', 'at', 'Twitter', 'and', 'Steemit', 'This', 'article', 'is', 'Creative', 'Commons', 'and', 'can', 'be', 'republished', 'in', 'full', 'with', 'attribution', 'Like', 'Activist', 'Post', 'on', 'Facebook', 'subscribe', 'on', 'YouTube', 'follow', 'on', 'Twitter', 'and', 'at', 'Steemit', 'Image', 'Credit', 'The', 'Anti', 'Media']\n"
     ]
    }
   ],
   "source": [
    "# Extract all words\n",
    "text=txt# text=''.join(txt)\n",
    "words = re.findall(r'\\b\\w+\\b', text)\n",
    "print(\"Words:\", words)"
   ]
  },
  {
   "cell_type": "code",
   "execution_count": 44,
   "id": "50ff2857",
   "metadata": {},
   "outputs": [
    {
     "name": "stdout",
     "output_type": "stream",
     "text": [
      "Numbers: ['76', '22', '2015', '29', '5', '18', '2017']\n"
     ]
    }
   ],
   "source": [
    "# Extract all numbers\n",
    "text=txt\n",
    "numbers = re.findall(r'\\b\\d+\\b', text)\n",
    "print(\"Numbers:\", numbers)"
   ]
  },
  {
   "cell_type": "code",
   "execution_count": 45,
   "id": "bda8782e",
   "metadata": {},
   "outputs": [
    {
     "name": "stdout",
     "output_type": "stream",
     "text": [
      "Clean Text: US President Donald Trump Quietly Signs Law To Allow Warrantless Searches In Parts Of VA DC and MDBy Aaron Kesel\n",
      "As former White House chief of staff and current Chicago Mayor Rahm Emanuel has said You never let a serious crisis go to waste While everyone was worried about the hurricanes US President Donald Trump signed away the Fourth Amendment buried in a new bill He set a precedent by empowering the police state to allow warrantless searches in parts of VA MD and DC near the Metro train system\n",
      "The government can now openly enter and search private property without a warrant in parts of Virginia Maryland and DC\n",
      "The House Joint Resolution 76 was signed into law on Tuesday Aug 22 by President Trump The text is rather boring starting off with Granting the consent and approval of Congress for the Commonwealth of Virginia the State of Maryland and the District of Columbia to enter into a compact relating to the establishment of the Washington Metrorail Safety Commission\n",
      "CNN explained This law lets Virginia Maryland and the District of Columbia form a new panel called the Washington Metrorail Safety Commission to oversee the safety of the DCarea public transportation Metro train system\n",
      "The new safety commission will take over from the current Federal Transit Agency FTA which has been in charge of safety oversight for the Washington Metropolitan Area Interstate Compact WMATA since October 2015\n",
      "Well set this up and get the FTA out of Metro They are happy to get out and were happy to get them out Metro Board of Directors Chair Jack Evans told Bloomberg BNA Im glad we got this thing If nothing else well get our money\n",
      "However buried within the bills text is a daunting one major red flag that would give the newly formed commission the authority to enter property near the Metro Rail System without limitation and without a warrant for the purpose of making inspections investigations examinations and testing The Free Thought Project reported\n",
      "The legislation reads\n",
      "In performing its duties the Commission through its Board or designated employees or agents may Enter upon the WMATA Rail System and upon reasonable notice and a finding by the chief executive officer that a need exists upon any lands waters and premises adjacent to the WMATA Rail System including without limitation property owned or occupied by the federal government for the purpose of making inspections investigations examinations and testing as the Commission may deem necessary to carry out the purposes of this MSC Compact and such entry shall not be deemed a trespass\n",
      "Only five Congressman voted against the bill according to US Rep Justin Amash RMich while three hundred ninetynine gave their approval and 29 didnt bother to vote at all Apparently our elected officials cant be bothered to stand up for the rights of we the people or the Constitution they swore to protect After all the Fourth Amendment doesnt exist which protects Americans from unreasonable searches and seizures or anything As Amash pointed out the government will now be able to kick in the doors of any private property surrounding the border of the DC Metro Rail System without needing a warrant based on any probable cause\n",
      "Only 5 of us voted against bill allowing govt to entersearch private property in parts of VA MD  DC wo warrant httpstcoSVhTWqbPaB  Justin Amash justinamash July 18 2017 FREE Stormproof Waterproof Survival Match Kit Ad\n",
      "A scary prospect indeed as Rachel Blevins wrote for The Free Thought Project While it may only affect the Washington DC metro area now it could be laying the blueprint for future legislation across the country\n",
      "Aaron Kesel writes for Activist Post and is Director of Content for Coinivore Follow Aaron at Twitter and Steemit\n",
      "This article is Creative Commons and can be republished in full with attribution Like Activist Post on Facebook subscribe on YouTube follow on Twitter and at Steemit\n",
      "Image Credit The AntiMedia\n"
     ]
    }
   ],
   "source": [
    "# Remove special characters\n",
    "text=txt\n",
    "clean_text = re.sub(r'[^a-zA-Z0-9\\s]', '', text)\n",
    "print(\"Clean Text:\", clean_text)\n"
   ]
  },
  {
   "cell_type": "code",
   "execution_count": 46,
   "id": "77f26131",
   "metadata": {},
   "outputs": [
    {
     "data": {
      "text/plain": [
       "'U.S. President Donald Trump Quietly Signs Law To Allow Warrantless Searches In Parts Of VA, DC and MDBy Aaron Kesel\\nAs former White House chief of staff and current Chicago Mayor Rahm Emanuel has said: “You never let a serious crisis go to waste.” While everyone was worried about the hurricanes, U.S. President Donald Trump signed away the Fourth Amendment buried in a new bill. He set a precedent by empowering the police state to allow warrantless searches in parts of VA, MD and D.C. near the Metro train system.\\nThe government can now openly enter and search private property without a warrant in parts of Virginia, Maryland and D.C.\\nThe House Joint Resolution 76 was signed into law on Tuesday, Aug. 22, by President Trump. The text is rather boring, starting off with: “Granting the consent and approval of Congress for the Commonwealth of Virginia, the State of Maryland, and the District of Columbia to enter into a compact relating to the establishment of the Washington Metrorail Safety Commission.”\\nCNN explained, “This law lets Virginia, Maryland and the District of Columbia form a new panel called the Washington Metrorail Safety Commission to oversee the safety of the D.C.-area public transportation Metro train system.”\\nThe new safety commission will take over from the current Federal Transit Agency (FTA), which has been in charge of safety oversight for the Washington Metropolitan Area Interstate Compact (WMATA) since October 2015.\\n“We’ll set this up and get the FTA out of Metro. They are happy to get out, and we’re happy to get them out,” Metro Board of Directors Chair Jack Evans told Bloomberg BNA. “I’m glad we got this thing. If nothing else, we’ll get our money.”\\nHowever, buried within the bill’s text is a daunting “one major red flag” that would give the newly formed commission “the authority to enter property near the Metro Rail System ‘without limitation’ and without a warrant, for the purpose of ‘making inspections, investigations, examinations, and testing,” The Free Thought Project reported.\\nThe legislation reads:\\nIn performing its duties, the Commission, through its Board or designated employees or agents, may: Enter upon the WMATA Rail System and, upon reasonable notice and a finding by the chief executive officer that a need exists, upon any lands, waters, and premises adjacent to the WMATA Rail System, including, without limitation, property owned or occupied by the federal government, for the purpose of making inspections, investigations, examinations, and testing as the Commission may deem necessary to carry out the purposes of this MSC Compact, and such entry shall not be deemed a trespass.\\nOnly five Congressman voted against the bill according to U.S. Rep Justin Amash (R-Mich.) while three hundred ninety-nine gave their approval, and 29 didn’t bother to vote at all. Apparently, our elected officials can’t be bothered to stand up for the rights of we the people or the Constitution they swore to protect. After all, the Fourth Amendment doesn’t exist, which protects Americans from unreasonable searches and seizures or anything. As Amash pointed out, the government will now be able to kick in the doors of any private property surrounding the border of the DC Metro Rail System without needing a warrant based on any probable cause.\\nOnly 5 of us voted against bill allowing govt to enter/search private property in parts of VA, MD & DC w/o warrant. https://t.co/SVhTWqbPaB — Justin Amash (@justinamash) July 18, 2017 FREE Stormproof, Waterproof Survival Match Kit (Ad)\\nA scary prospect indeed, as Rachel Blevins wrote for The Free Thought Project, “While it may only affect the Washington, D.C., metro area now, it could be laying the blueprint for future legislation across the country.”\\nAaron Kesel writes for Activist Post and is Director of Content for Coinivore. Follow Aaron at Twitter and Steemit.\\nThis article is Creative Commons and can be republished in full with attribution. Like Activist Post on Facebook, subscribe on YouTube, follow on Twitter and at Steemit.\\nImage Credit: The Anti-Media'"
      ]
     },
     "execution_count": 46,
     "metadata": {},
     "output_type": "execute_result"
    }
   ],
   "source": [
    "txt"
   ]
  },
  {
   "cell_type": "code",
   "execution_count": 47,
   "id": "53e049f0",
   "metadata": {},
   "outputs": [
    {
     "name": "stdout",
     "output_type": "stream",
     "text": [
      "The text contains the word 'Commons'.\n"
     ]
    }
   ],
   "source": [
    "# Assuming txt is your actual text\n",
    "text= txt\n",
    "\n",
    "# Check if the text contains the word \"example\"\n",
    "contains_Commons = re.search(r'\\bCommons\\b', text)\n",
    "\n",
    "if contains_Commons:\n",
    "    print(\"The text contains the word 'Commons'.\")\n",
    "else:\n",
    "    print(\"The text does not contain the word 'Commons'.\")"
   ]
  },
  {
   "cell_type": "code",
   "execution_count": 48,
   "id": "e138abce",
   "metadata": {},
   "outputs": [
    {
     "name": "stdout",
     "output_type": "stream",
     "text": [
      "U.S. President Donald Trump Quietly Signs Law To Allow Warrantless Searches In Parts Of VA, DC and MDBy Aaron Kesel\n",
      "As former White House chief of staff and current Chicago Mayor Rahm Emanuel has said: “You never let a serious crisis go to waste.” While everyone was worried about the hurricanes, U.S. President Donald Trump signed away the Fourth Amendment buried in a new bill. He set a precedent by empowering the police state to allow warrantless searches in parts of VA, MD and D.C. near the Metro train system.\n",
      "The government can now openly enter and search private property without a warrant in parts of Virginia, Maryland and D.C.\n",
      "The House Joint Resolution 76 was signed into law on Tuesday, Aug. 22, by President Trump. The text is rather boring, starting off with: “Granting the consent and approval of Congress for the Commonwealth of Virginia, the State of Maryland, and the District of Columbia to enter into a compact relating to the establishment of the Washington Metrorail Safety Commission.”\n",
      "CNN explained, “This law lets Virginia, Maryland and the District of Columbia form a new panel called the Washington Metrorail Safety Commission to oversee the safety of the D.C.-area public transportation Metro train system.”\n",
      "The new safety commission will take over from the current Federal Transit Agency (FTA), which has been in charge of safety oversight for the Washington Metropolitan Area Interstate Compact (WMATA) since October 2015.\n",
      "“We’ll set this up and get the FTA out of Metro. They are happy to get out, and we’re happy to get them out,” Metro Board of Directors Chair Jack Evans told Bloomberg BNA. “I’m glad we got this thing. If nothing else, we’ll get our money.”\n",
      "However, buried within the bill’s text is a daunting “one major red flag” that would give the newly formed commission “the authority to enter property near the Metro Rail System ‘without limitation’ and without a warrant, for the purpose of ‘making inspections, investigations, examinations, and testing,” The Free Thought Project reported.\n",
      "The legislation reads:\n",
      "In performing its duties, the Commission, through its Board or designated employees or agents, may: Enter upon the WMATA Rail System and, upon reasonable notice and a finding by the chief executive officer that a need exists, upon any lands, waters, and premises adjacent to the WMATA Rail System, including, without limitation, property owned or occupied by the federal government, for the purpose of making inspections, investigations, examinations, and testing as the Commission may deem necessary to carry out the purposes of this MSC Compact, and such entry shall not be deemed a trespass.\n",
      "Only five Congressman voted against the bill according to U.S. Rep Justin Amash (R-Mich.) while three hundred ninety-nine gave their approval, and 29 didn’t bother to vote at all. Apparently, our elected officials can’t be bothered to stand up for the rights of we the people or the Constitution they swore to protect. After all, the Fourth Amendment doesn’t exist, which protects Americans from unreasonable searches and seizures or anything. As Amash pointed out, the government will now be able to kick in the doors of any private property surrounding the border of the DC Metro Rail System without needing a warrant based on any probable cause.\n",
      "Only 5 of us voted against bill allowing govt to enter/search private property in parts of VA, MD & DC w/o warrant.  — Justin Amash (@justinamash) July 18, 2017 FREE Stormproof, Waterproof Survival Match Kit (Ad)\n",
      "A scary prospect indeed, as Rachel Blevins wrote for The Free Thought Project, “While it may only affect the Washington, D.C., metro area now, it could be laying the blueprint for future legislation across the country.”\n",
      "Aaron Kesel writes for Activist Post and is Director of Content for Coinivore. Follow Aaron at Twitter and Steemit.\n",
      "This article is Creative Commons and can be republished in full with attribution. Like Activist Post on Facebook, subscribe on YouTube, follow on Twitter and at Steemit.\n",
      "Image Credit: The Anti-Media\n"
     ]
    }
   ],
   "source": [
    "# Example text containing a URL\n",
    "text=txt\n",
    "# Regular expression pattern to match URLs\n",
    "url_pattern = r'https?://\\S+|www\\.\\S+'\n",
    "# Remove URLs from the text\n",
    "text_without_urls = re.sub(url_pattern, '', text)\n",
    "\n",
    "print(text_without_urls)"
   ]
  },
  {
   "cell_type": "markdown",
   "id": "2e90b5c2",
   "metadata": {},
   "source": [
    "# Pos tagg"
   ]
  },
  {
   "cell_type": "markdown",
   "id": "25445e7f",
   "metadata": {},
   "source": [
    "#Part-of-speech (POS) tagging is a natural language processing task that involves assigning a part of speech (such as noun, verb, adjective, etc.) to each word in a sentence \n",
    ". Libraries like NLTK and spaCy provide POS tagging functionalities."
   ]
  },
  {
   "cell_type": "code",
   "execution_count": 49,
   "id": "20b1b9f7",
   "metadata": {},
   "outputs": [
    {
     "name": "stdout",
     "output_type": "stream",
     "text": [
      "\u001b[38;5;2m✔ Download and installation successful\u001b[0m\n",
      "You can now load the package via spacy.load('en_core_web_sm')\n",
      "[('U.S.', 'PROPN'), ('President', 'PROPN'), ('Donald', 'PROPN'), ('Trump', 'PROPN'), ('Quietly', 'ADV'), ('Signs', 'PROPN'), ('Law', 'PROPN'), ('To', 'PART'), ('Allow', 'VERB'), ('Warrantless', 'PROPN'), ('Searches', 'PROPN'), ('In', 'ADP'), ('Parts', 'PROPN'), ('Of', 'ADP'), ('VA', 'PROPN'), (',', 'PUNCT'), ('DC', 'PROPN'), ('and', 'CCONJ'), ('MDBy', 'PROPN'), ('Aaron', 'PROPN'), ('Kesel', 'PROPN'), ('\\n', 'SPACE'), ('As', 'ADP'), ('former', 'ADJ'), ('White', 'PROPN'), ('House', 'PROPN'), ('chief', 'NOUN'), ('of', 'ADP'), ('staff', 'NOUN'), ('and', 'CCONJ'), ('current', 'ADJ'), ('Chicago', 'PROPN'), ('Mayor', 'PROPN'), ('Rahm', 'PROPN'), ('Emanuel', 'PROPN'), ('has', 'AUX'), ('said', 'VERB'), (':', 'PUNCT'), ('“', 'PUNCT'), ('You', 'PRON'), ('never', 'ADV'), ('let', 'VERB'), ('a', 'DET'), ('serious', 'ADJ'), ('crisis', 'NOUN'), ('go', 'VERB'), ('to', 'ADP'), ('waste', 'NOUN'), ('.', 'PUNCT'), ('”', 'PUNCT'), ('While', 'SCONJ'), ('everyone', 'PRON'), ('was', 'AUX'), ('worried', 'ADJ'), ('about', 'ADP'), ('the', 'DET'), ('hurricanes', 'NOUN'), (',', 'PUNCT'), ('U.S.', 'PROPN'), ('President', 'PROPN'), ('Donald', 'PROPN'), ('Trump', 'PROPN'), ('signed', 'VERB'), ('away', 'ADV'), ('the', 'DET'), ('Fourth', 'PROPN'), ('Amendment', 'PROPN'), ('buried', 'VERB'), ('in', 'ADP'), ('a', 'DET'), ('new', 'ADJ'), ('bill', 'NOUN'), ('.', 'PUNCT'), ('He', 'PRON'), ('set', 'VERB'), ('a', 'DET'), ('precedent', 'NOUN'), ('by', 'ADP'), ('empowering', 'VERB'), ('the', 'DET'), ('police', 'NOUN'), ('state', 'NOUN'), ('to', 'PART'), ('allow', 'VERB'), ('warrantless', 'NOUN'), ('searches', 'NOUN'), ('in', 'ADP'), ('parts', 'NOUN'), ('of', 'ADP'), ('VA', 'PROPN'), (',', 'PUNCT'), ('MD', 'PROPN'), ('and', 'CCONJ'), ('D.C.', 'PROPN'), ('near', 'ADP'), ('the', 'DET'), ('Metro', 'PROPN'), ('train', 'NOUN'), ('system', 'NOUN'), ('.', 'PUNCT'), ('\\n', 'SPACE'), ('The', 'DET'), ('government', 'NOUN'), ('can', 'AUX'), ('now', 'ADV'), ('openly', 'ADV'), ('enter', 'VERB'), ('and', 'CCONJ'), ('search', 'VERB'), ('private', 'ADJ'), ('property', 'NOUN'), ('without', 'ADP'), ('a', 'DET'), ('warrant', 'NOUN'), ('in', 'ADP'), ('parts', 'NOUN'), ('of', 'ADP'), ('Virginia', 'PROPN'), (',', 'PUNCT'), ('Maryland', 'PROPN'), ('and', 'CCONJ'), ('D.C.', 'PROPN'), ('\\n', 'SPACE'), ('The', 'DET'), ('House', 'PROPN'), ('Joint', 'PROPN'), ('Resolution', 'PROPN'), ('76', 'NUM'), ('was', 'AUX'), ('signed', 'VERB'), ('into', 'ADP'), ('law', 'NOUN'), ('on', 'ADP'), ('Tuesday', 'PROPN'), (',', 'PUNCT'), ('Aug.', 'PROPN'), ('22', 'NUM'), (',', 'PUNCT'), ('by', 'ADP'), ('President', 'PROPN'), ('Trump', 'PROPN'), ('.', 'PUNCT'), ('The', 'DET'), ('text', 'NOUN'), ('is', 'AUX'), ('rather', 'ADV'), ('boring', 'ADJ'), (',', 'PUNCT'), ('starting', 'VERB'), ('off', 'ADP'), ('with', 'ADP'), (':', 'PUNCT'), ('“', 'PUNCT'), ('Granting', 'VERB'), ('the', 'DET'), ('consent', 'NOUN'), ('and', 'CCONJ'), ('approval', 'NOUN'), ('of', 'ADP'), ('Congress', 'PROPN'), ('for', 'ADP'), ('the', 'DET'), ('Commonwealth', 'PROPN'), ('of', 'ADP'), ('Virginia', 'PROPN'), (',', 'PUNCT'), ('the', 'DET'), ('State', 'PROPN'), ('of', 'ADP'), ('Maryland', 'PROPN'), (',', 'PUNCT'), ('and', 'CCONJ'), ('the', 'DET'), ('District', 'PROPN'), ('of', 'ADP'), ('Columbia', 'PROPN'), ('to', 'PART'), ('enter', 'VERB'), ('into', 'ADP'), ('a', 'DET'), ('compact', 'ADJ'), ('relating', 'NOUN'), ('to', 'ADP'), ('the', 'DET'), ('establishment', 'NOUN'), ('of', 'ADP'), ('the', 'DET'), ('Washington', 'PROPN'), ('Metrorail', 'PROPN'), ('Safety', 'PROPN'), ('Commission', 'PROPN'), ('.', 'PUNCT'), ('”', 'PUNCT'), ('\\n', 'SPACE'), ('CNN', 'PROPN'), ('explained', 'VERB'), (',', 'PUNCT'), ('“', 'PUNCT'), ('This', 'DET'), ('law', 'NOUN'), ('lets', 'VERB'), ('Virginia', 'PROPN'), (',', 'PUNCT'), ('Maryland', 'PROPN'), ('and', 'CCONJ'), ('the', 'DET'), ('District', 'PROPN'), ('of', 'ADP'), ('Columbia', 'PROPN'), ('form', 'VERB'), ('a', 'DET'), ('new', 'ADJ'), ('panel', 'NOUN'), ('called', 'VERB'), ('the', 'DET'), ('Washington', 'PROPN'), ('Metrorail', 'PROPN'), ('Safety', 'PROPN'), ('Commission', 'PROPN'), ('to', 'PART'), ('oversee', 'VERB'), ('the', 'DET'), ('safety', 'NOUN'), ('of', 'ADP'), ('the', 'DET'), ('D.C.-area', 'PUNCT'), ('public', 'ADJ'), ('transportation', 'NOUN'), ('Metro', 'PROPN'), ('train', 'NOUN'), ('system', 'NOUN'), ('.', 'PUNCT'), ('”', 'PUNCT'), ('\\n', 'SPACE'), ('The', 'DET'), ('new', 'ADJ'), ('safety', 'NOUN'), ('commission', 'NOUN'), ('will', 'AUX'), ('take', 'VERB'), ('over', 'ADP'), ('from', 'ADP'), ('the', 'DET'), ('current', 'ADJ'), ('Federal', 'PROPN'), ('Transit', 'PROPN'), ('Agency', 'PROPN'), ('(', 'PUNCT'), ('FTA', 'PROPN'), (')', 'PUNCT'), (',', 'PUNCT'), ('which', 'PRON'), ('has', 'AUX'), ('been', 'AUX'), ('in', 'ADP'), ('charge', 'NOUN'), ('of', 'ADP'), ('safety', 'NOUN'), ('oversight', 'NOUN'), ('for', 'ADP'), ('the', 'DET'), ('Washington', 'PROPN'), ('Metropolitan', 'PROPN'), ('Area', 'PROPN'), ('Interstate', 'PROPN'), ('Compact', 'PROPN'), ('(', 'PUNCT'), ('WMATA', 'PROPN'), (')', 'PUNCT'), ('since', 'SCONJ'), ('October', 'PROPN'), ('2015', 'NUM'), ('.', 'PUNCT'), ('\\n', 'SPACE'), ('“', 'PUNCT'), ('We', 'PRON'), ('’ll', 'AUX'), ('set', 'VERB'), ('this', 'PRON'), ('up', 'ADP'), ('and', 'CCONJ'), ('get', 'VERB'), ('the', 'DET'), ('FTA', 'PROPN'), ('out', 'ADP'), ('of', 'ADP'), ('Metro', 'PROPN'), ('.', 'PUNCT'), ('They', 'PRON'), ('are', 'AUX'), ('happy', 'ADJ'), ('to', 'PART'), ('get', 'VERB'), ('out', 'ADP'), (',', 'PUNCT'), ('and', 'CCONJ'), ('we', 'PRON'), ('’re', 'VERB'), ('happy', 'ADJ'), ('to', 'PART'), ('get', 'VERB'), ('them', 'PRON'), ('out', 'ADP'), (',', 'PUNCT'), ('”', 'PUNCT'), ('Metro', 'PROPN'), ('Board', 'PROPN'), ('of', 'ADP'), ('Directors', 'PROPN'), ('Chair', 'PROPN'), ('Jack', 'PROPN'), ('Evans', 'PROPN'), ('told', 'VERB'), ('Bloomberg', 'PROPN'), ('BNA', 'PROPN'), ('.', 'PUNCT'), ('“', 'PUNCT'), ('I', 'PRON'), ('’m', 'VERB'), ('glad', 'ADJ'), ('we', 'PRON'), ('got', 'VERB'), ('this', 'DET'), ('thing', 'NOUN'), ('.', 'PUNCT'), ('If', 'SCONJ'), ('nothing', 'PRON'), ('else', 'ADV'), (',', 'PUNCT'), ('we', 'PRON'), ('’ll', 'AUX'), ('get', 'VERB'), ('our', 'PRON'), ('money', 'NOUN'), ('.', 'PUNCT'), ('”', 'PUNCT'), ('\\n', 'SPACE'), ('However', 'ADV'), (',', 'PUNCT'), ('buried', 'VERB'), ('within', 'ADP'), ('the', 'DET'), ('bill', 'NOUN'), ('’s', 'PART'), ('text', 'NOUN'), ('is', 'AUX'), ('a', 'DET'), ('daunting', 'ADJ'), ('“', 'PUNCT'), ('one', 'NUM'), ('major', 'ADJ'), ('red', 'ADJ'), ('flag', 'NOUN'), ('”', 'PUNCT'), ('that', 'PRON'), ('would', 'AUX'), ('give', 'VERB'), ('the', 'DET'), ('newly', 'ADV'), ('formed', 'VERB'), ('commission', 'NOUN'), ('“', 'PUNCT'), ('the', 'DET'), ('authority', 'NOUN'), ('to', 'PART'), ('enter', 'VERB'), ('property', 'NOUN'), ('near', 'ADP'), ('the', 'DET'), ('Metro', 'PROPN'), ('Rail', 'PROPN'), ('System', 'PROPN'), ('‘', 'PUNCT'), ('without', 'ADP'), ('limitation', 'NOUN'), ('’', 'PUNCT'), ('and', 'CCONJ'), ('without', 'ADP'), ('a', 'DET'), ('warrant', 'NOUN'), (',', 'PUNCT'), ('for', 'ADP'), ('the', 'DET'), ('purpose', 'NOUN'), ('of', 'ADP'), ('‘', 'PUNCT'), ('making', 'VERB'), ('inspections', 'NOUN'), (',', 'PUNCT'), ('investigations', 'NOUN'), (',', 'PUNCT'), ('examinations', 'NOUN'), (',', 'PUNCT'), ('and', 'CCONJ'), ('testing', 'NOUN'), (',', 'PUNCT'), ('”', 'PUNCT'), ('The', 'DET'), ('Free', 'PROPN'), ('Thought', 'PROPN'), ('Project', 'PROPN'), ('reported', 'VERB'), ('.', 'PUNCT'), ('\\n', 'SPACE'), ('The', 'DET'), ('legislation', 'NOUN'), ('reads', 'VERB'), (':', 'PUNCT'), ('\\n', 'SPACE'), ('In', 'ADP'), ('performing', 'VERB'), ('its', 'PRON'), ('duties', 'NOUN'), (',', 'PUNCT'), ('the', 'DET'), ('Commission', 'PROPN'), (',', 'PUNCT'), ('through', 'ADP'), ('its', 'PRON'), ('Board', 'PROPN'), ('or', 'CCONJ'), ('designated', 'VERB'), ('employees', 'NOUN'), ('or', 'CCONJ'), ('agents', 'NOUN'), (',', 'PUNCT'), ('may', 'AUX'), (':', 'PUNCT'), ('Enter', 'VERB'), ('upon', 'SCONJ'), ('the', 'DET'), ('WMATA', 'PROPN'), ('Rail', 'PROPN'), ('System', 'PROPN'), ('and', 'CCONJ'), (',', 'PUNCT'), ('upon', 'SCONJ'), ('reasonable', 'ADJ'), ('notice', 'NOUN'), ('and', 'CCONJ'), ('a', 'DET'), ('finding', 'NOUN'), ('by', 'ADP'), ('the', 'DET'), ('chief', 'ADJ'), ('executive', 'ADJ'), ('officer', 'NOUN'), ('that', 'PRON'), ('a', 'DET'), ('need', 'NOUN'), ('exists', 'VERB'), (',', 'PUNCT'), ('upon', 'SCONJ'), ('any', 'DET'), ('lands', 'NOUN'), (',', 'PUNCT'), ('waters', 'NOUN'), (',', 'PUNCT'), ('and', 'CCONJ'), ('premises', 'VERB'), ('adjacent', 'ADJ'), ('to', 'ADP'), ('the', 'DET'), ('WMATA', 'PROPN'), ('Rail', 'PROPN'), ('System', 'PROPN'), (',', 'PUNCT'), ('including', 'VERB'), (',', 'PUNCT'), ('without', 'ADP'), ('limitation', 'NOUN'), (',', 'PUNCT'), ('property', 'NOUN'), ('owned', 'VERB'), ('or', 'CCONJ'), ('occupied', 'VERB'), ('by', 'ADP'), ('the', 'DET'), ('federal', 'ADJ'), ('government', 'NOUN'), (',', 'PUNCT'), ('for', 'ADP'), ('the', 'DET'), ('purpose', 'NOUN'), ('of', 'ADP'), ('making', 'VERB'), ('inspections', 'NOUN'), (',', 'PUNCT'), ('investigations', 'NOUN'), (',', 'PUNCT'), ('examinations', 'NOUN'), (',', 'PUNCT'), ('and', 'CCONJ'), ('testing', 'NOUN'), ('as', 'SCONJ'), ('the', 'DET'), ('Commission', 'PROPN'), ('may', 'AUX'), ('deem', 'VERB'), ('necessary', 'ADJ'), ('to', 'PART'), ('carry', 'VERB'), ('out', 'ADP'), ('the', 'DET'), ('purposes', 'NOUN'), ('of', 'ADP'), ('this', 'DET'), ('MSC', 'PROPN'), ('Compact', 'PROPN'), (',', 'PUNCT'), ('and', 'CCONJ'), ('such', 'ADJ'), ('entry', 'NOUN'), ('shall', 'AUX'), ('not', 'PART'), ('be', 'AUX'), ('deemed', 'VERB'), ('a', 'DET'), ('trespass', 'NOUN'), ('.', 'PUNCT'), ('\\n', 'SPACE'), ('Only', 'ADV'), ('five', 'NUM'), ('Congressman', 'PROPN'), ('voted', 'VERB'), ('against', 'ADP'), ('the', 'DET'), ('bill', 'NOUN'), ('according', 'VERB'), ('to', 'ADP'), ('U.S.', 'PROPN'), ('Rep', 'PROPN'), ('Justin', 'PROPN'), ('Amash', 'PROPN'), ('(', 'PUNCT'), ('R', 'PROPN'), ('-', 'PUNCT'), ('Mich.', 'PROPN'), (')', 'PUNCT'), ('while', 'SCONJ'), ('three', 'NUM'), ('hundred', 'NUM'), ('ninety', 'NUM'), ('-', 'PUNCT'), ('nine', 'NUM'), ('gave', 'VERB'), ('their', 'PRON'), ('approval', 'NOUN'), (',', 'PUNCT'), ('and', 'CCONJ'), ('29', 'NUM'), ('did', 'AUX'), ('n’t', 'PART'), ('bother', 'VERB'), ('to', 'PART'), ('vote', 'VERB'), ('at', 'ADV'), ('all', 'ADV'), ('.', 'PUNCT'), ('Apparently', 'ADV'), (',', 'PUNCT'), ('our', 'PRON'), ('elected', 'VERB'), ('officials', 'NOUN'), ('ca', 'AUX'), ('n’t', 'PART'), ('be', 'AUX'), ('bothered', 'VERB'), ('to', 'PART'), ('stand', 'VERB'), ('up', 'ADP'), ('for', 'ADP'), ('the', 'DET'), ('rights', 'NOUN'), ('of', 'ADP'), ('we', 'PRON'), ('the', 'DET'), ('people', 'NOUN'), ('or', 'CCONJ'), ('the', 'DET'), ('Constitution', 'PROPN'), ('they', 'PRON'), ('swore', 'VERB'), ('to', 'PART'), ('protect', 'VERB'), ('.', 'PUNCT'), ('After', 'ADV'), ('all', 'ADV'), (',', 'PUNCT'), ('the', 'DET'), ('Fourth', 'PROPN'), ('Amendment', 'PROPN'), ('does', 'AUX'), ('n’t', 'PART'), ('exist', 'VERB'), (',', 'PUNCT'), ('which', 'PRON'), ('protects', 'VERB'), ('Americans', 'PROPN'), ('from', 'ADP'), ('unreasonable', 'ADJ'), ('searches', 'NOUN'), ('and', 'CCONJ'), ('seizures', 'NOUN'), ('or', 'CCONJ'), ('anything', 'PRON'), ('.', 'PUNCT'), ('As', 'SCONJ'), ('Amash', 'PROPN'), ('pointed', 'VERB'), ('out', 'ADP'), (',', 'PUNCT'), ('the', 'DET'), ('government', 'NOUN'), ('will', 'AUX'), ('now', 'ADV'), ('be', 'AUX'), ('able', 'ADJ'), ('to', 'PART'), ('kick', 'VERB'), ('in', 'ADP'), ('the', 'DET'), ('doors', 'NOUN'), ('of', 'ADP'), ('any', 'DET'), ('private', 'ADJ'), ('property', 'NOUN'), ('surrounding', 'VERB'), ('the', 'DET'), ('border', 'NOUN'), ('of', 'ADP'), ('the', 'DET'), ('DC', 'PROPN'), ('Metro', 'PROPN'), ('Rail', 'PROPN'), ('System', 'PROPN'), ('without', 'ADP'), ('needing', 'VERB'), ('a', 'DET'), ('warrant', 'NOUN'), ('based', 'VERB'), ('on', 'ADP'), ('any', 'DET'), ('probable', 'ADJ'), ('cause', 'NOUN'), ('.', 'PUNCT'), ('\\n', 'SPACE'), ('Only', 'ADV'), ('5', 'NUM'), ('of', 'ADP'), ('us', 'PRON'), ('voted', 'VERB'), ('against', 'ADP'), ('bill', 'NOUN'), ('allowing', 'VERB'), ('govt', 'NOUN'), ('to', 'PART'), ('enter', 'VERB'), ('/', 'SYM'), ('search', 'VERB'), ('private', 'ADJ'), ('property', 'NOUN'), ('in', 'ADP'), ('parts', 'NOUN'), ('of', 'ADP'), ('VA', 'PROPN'), (',', 'PUNCT'), ('MD', 'PROPN'), ('&', 'CCONJ'), ('DC', 'PROPN'), ('w/o', 'ADP'), ('warrant', 'NOUN'), ('.', 'PUNCT'), ('https://t.co/SVhTWqbPaB', 'NOUN'), ('—', 'PUNCT'), ('Justin', 'PROPN'), ('Amash', 'PROPN'), ('(', 'PUNCT'), ('@justinamash', 'PROPN'), (')', 'PUNCT'), ('July', 'PROPN'), ('18', 'NUM'), (',', 'PUNCT'), ('2017', 'NUM'), ('FREE', 'PROPN'), ('Stormproof', 'PROPN'), (',', 'PUNCT'), ('Waterproof', 'PROPN'), ('Survival', 'PROPN'), ('Match', 'PROPN'), ('Kit', 'PROPN'), ('(', 'PUNCT'), ('Ad', 'NOUN'), (')', 'PUNCT'), ('\\n', 'SPACE'), ('A', 'DET'), ('scary', 'ADJ'), ('prospect', 'NOUN'), ('indeed', 'ADV'), (',', 'PUNCT'), ('as', 'SCONJ'), ('Rachel', 'PROPN'), ('Blevins', 'PROPN'), ('wrote', 'VERB'), ('for', 'ADP'), ('The', 'DET'), ('Free', 'PROPN'), ('Thought', 'PROPN'), ('Project', 'PROPN'), (',', 'PUNCT'), ('“', 'PUNCT'), ('While', 'SCONJ'), ('it', 'PRON'), ('may', 'AUX'), ('only', 'ADV'), ('affect', 'VERB'), ('the', 'DET'), ('Washington', 'PROPN'), (',', 'PUNCT'), ('D.C.', 'PROPN'), (',', 'PUNCT'), ('metro', 'PROPN'), ('area', 'NOUN'), ('now', 'ADV'), (',', 'PUNCT'), ('it', 'PRON'), ('could', 'AUX'), ('be', 'AUX'), ('laying', 'VERB'), ('the', 'DET'), ('blueprint', 'NOUN'), ('for', 'ADP'), ('future', 'ADJ'), ('legislation', 'NOUN'), ('across', 'ADP'), ('the', 'DET'), ('country', 'NOUN'), ('.', 'PUNCT'), ('”', 'PUNCT'), ('\\n', 'SPACE'), ('Aaron', 'PROPN'), ('Kesel', 'PROPN'), ('writes', 'VERB'), ('for', 'ADP'), ('Activist', 'PROPN'), ('Post', 'PROPN'), ('and', 'CCONJ'), ('is', 'AUX'), ('Director', 'PROPN'), ('of', 'ADP'), ('Content', 'PROPN'), ('for', 'ADP'), ('Coinivore', 'PROPN'), ('.', 'PUNCT'), ('Follow', 'VERB'), ('Aaron', 'PROPN'), ('at', 'ADP'), ('Twitter', 'PROPN'), ('and', 'CCONJ'), ('Steemit', 'PROPN'), ('.', 'PUNCT'), ('\\n', 'SPACE'), ('This', 'DET'), ('article', 'NOUN'), ('is', 'AUX'), ('Creative', 'PROPN'), ('Commons', 'PROPN'), ('and', 'CCONJ'), ('can', 'AUX'), ('be', 'AUX'), ('republished', 'VERB'), ('in', 'ADP'), ('full', 'ADJ'), ('with', 'ADP'), ('attribution', 'NOUN'), ('.', 'PUNCT'), ('Like', 'ADP'), ('Activist', 'PROPN'), ('Post', 'PROPN'), ('on', 'ADP'), ('Facebook', 'PROPN'), (',', 'PUNCT'), ('subscribe', 'NOUN'), ('on', 'ADP'), ('YouTube', 'PROPN'), (',', 'PUNCT'), ('follow', 'VERB'), ('on', 'ADP'), ('Twitter', 'PROPN'), ('and', 'CCONJ'), ('at', 'ADP'), ('Steemit', 'PROPN'), ('.', 'PUNCT'), ('\\n', 'SPACE'), ('Image', 'PROPN'), ('Credit', 'PROPN'), (':', 'PUNCT'), ('The', 'DET'), ('Anti', 'PROPN'), ('-', 'PROPN'), ('Media', 'NOUN')]\n"
     ]
    }
   ],
   "source": [
    "import spacy\n",
    "spacy.cli.download(\"en_core_web_sm\")\n",
    "# Load the English model in spaCy\n",
    "nlp = spacy.load('en_core_web_sm')\n",
    "\n",
    "#  text\n",
    "text = txt\n",
    "\n",
    "# Process the text using spaCy\n",
    "doc = nlp(text)\n",
    "\n",
    "# Extract POS tags for each token\n",
    "pos_tags_spacy = [(token.text, token.pos_) for token in doc]\n",
    "\n",
    "print(pos_tags_spacy)"
   ]
  },
  {
   "cell_type": "markdown",
   "id": "8fb10d5e",
   "metadata": {},
   "source": [
    "# feature extraction(Apply NLP techniques)\n",
    "\n"
   ]
  },
  {
   "cell_type": "markdown",
   "id": "f66816b1",
   "metadata": {},
   "source": [
    "# Bag of word "
   ]
  },
  {
   "cell_type": "code",
   "execution_count": 50,
   "id": "cf22117b",
   "metadata": {},
   "outputs": [],
   "source": [
    "from sklearn.feature_extraction.text import TfidfTransformer\n",
    "from sklearn.feature_extraction.text import CountVectorizer\n",
    "from sklearn.feature_extraction.text import TfidfVectorizer\n",
    "from sklearn.svm import SVC\n",
    "from sklearn.naive_bayes import MultinomialNB\n",
    "from sklearn.tree import DecisionTreeClassifier\n",
    "from sklearn.metrics import accuracy_score"
   ]
  },
  {
   "cell_type": "code",
   "execution_count": 51,
   "id": "9cd5a4d5",
   "metadata": {},
   "outputs": [
    {
     "name": "stdout",
     "output_type": "stream",
     "text": [
      "Matrix of token counts:\n",
      "[[0 0 0 ... 0 0 0]\n",
      " [0 0 0 ... 0 0 0]\n",
      " [0 0 0 ... 0 0 0]\n",
      " ...\n",
      " [0 0 0 ... 0 0 0]\n",
      " [0 0 0 ... 0 0 0]\n",
      " [0 0 0 ... 0 0 0]]\n",
      "\n",
      "Feature names (words/tokens):\n",
      "['18', '2015', '2017', '22', '29', '76', 'aaron', 'able', 'about', 'according', 'across', 'activist', 'ad', 'adjacent', 'affect', 'after', 'against', 'agency', 'agents', 'all', 'allow', 'allowing', 'amash', 'amendment', 'americans', 'and', 'anti', 'any', 'anything', 'apparently', 'approval', 'are', 'area', 'article', 'as', 'at', 'attribution', 'aug', 'authority', 'away', 'based', 'be', 'been', 'bill', 'blevins', 'bloomberg', 'blueprint', 'bna', 'board', 'border', 'boring', 'bother', 'bothered', 'buried', 'by', 'called', 'can', 'carry', 'cause', 'chair', 'charge', 'chicago', 'chief', 'cnn', 'co', 'coinivore', 'columbia', 'commission', 'commons', 'commonwealth', 'compact', 'congress', 'congressman', 'consent', 'constitution', 'content', 'could', 'country', 'creative', 'credit', 'crisis', 'current', 'daunting', 'dc', 'deem', 'deemed', 'designated', 'didn', 'director', 'directors', 'district', 'doesn', 'donald', 'doors', 'duties', 'elected', 'else', 'emanuel', 'employees', 'empowering', 'enter', 'entry', 'establishment', 'evans', 'everyone', 'examinations', 'executive', 'exist', 'exists', 'explained', 'facebook', 'federal', 'finding', 'five', 'flag', 'follow', 'for', 'form', 'formed', 'former', 'fourth', 'free', 'from', 'fta', 'full', 'future', 'gave', 'get', 'give', 'glad', 'go', 'got', 'government', 'govt', 'granting', 'happy', 'has', 'he', 'house', 'however', 'https', 'hundred', 'hurricanes', 'if', 'image', 'in', 'including', 'indeed', 'inspections', 'interstate', 'into', 'investigations', 'is', 'it', 'its', 'jack', 'joint', 'july', 'justin', 'justinamash', 'kesel', 'kick', 'kit', 'lands', 'law', 'laying', 'legislation', 'let', 'lets', 'like', 'limitation', 'll', 'major', 'making', 'maryland', 'match', 'may', 'mayor', 'md', 'mdby', 'media', 'metro', 'metropolitan', 'metrorail', 'mich', 'money', 'msc', 'near', 'necessary', 'need', 'needing', 'never', 'new', 'newly', 'nine', 'ninety', 'not', 'nothing', 'notice', 'now', 'occupied', 'october', 'of', 'off', 'officer', 'officials', 'on', 'one', 'only', 'openly', 'or', 'our', 'out', 'over', 'oversee', 'oversight', 'owned', 'panel', 'parts', 'people', 'performing', 'pointed', 'police', 'post', 'precedent', 'premises', 'president', 'private', 'probable', 'project', 'property', 'prospect', 'protect', 'protects', 'public', 'purpose', 'purposes', 'quietly', 'rachel', 'rahm', 'rail', 'rather', 're', 'reads', 'reasonable', 'red', 'relating', 'rep', 'reported', 'republished', 'resolution', 'rights', 'safety', 'said', 'scary', 'search', 'searches', 'seizures', 'serious', 'set', 'shall', 'signed', 'signs', 'since', 'staff', 'stand', 'starting', 'state', 'steemit', 'stormproof', 'subscribe', 'such', 'surrounding', 'survival', 'svhtwqbpab', 'swore', 'system', 'take', 'testing', 'text', 'that', 'the', 'their', 'them', 'they', 'thing', 'this', 'thought', 'three', 'through', 'to', 'told', 'train', 'transit', 'transportation', 'trespass', 'trump', 'tuesday', 'twitter', 'unreasonable', 'up', 'upon', 'us', 'va', 'virginia', 'vote', 'voted', 'warrant', 'warrantless', 'was', 'washington', 'waste', 'waterproof', 'waters', 'we', 'which', 'while', 'white', 'will', 'with', 'within', 'without', 'wmata', 'worried', 'would', 'writes', 'wrote', 'you', 'youtube']\n"
     ]
    }
   ],
   "source": [
    "#filtered _txt ----> tokenization+remove stopwords and punctuation+LEmm\n",
    "documents = filtered_txt\n",
    "\n",
    "# Creating an instance of CountVectorizer\n",
    "vectorizer = CountVectorizer()\n",
    "\n",
    "# Fit and transform the documents\n",
    "X = vectorizer.fit_transform(documents)\n",
    "\n",
    "# Get the feature names (words/tokens)\n",
    "feature_names = vectorizer.get_feature_names()\n",
    "\n",
    "# Display the matrix of token counts\n",
    "print(\"Matrix of token counts:\")\n",
    "print(X.toarray())\n",
    "\n",
    "# Display feature names\n",
    "print(\"\\nFeature names (words/tokens):\")\n",
    "print(feature_names)"
   ]
  },
  {
   "cell_type": "markdown",
   "id": "1edd403a",
   "metadata": {},
   "source": [
    "# TF-iDF Vectorizer"
   ]
  },
  {
   "cell_type": "code",
   "execution_count": 52,
   "id": "3f7333b1",
   "metadata": {},
   "outputs": [
    {
     "name": "stdout",
     "output_type": "stream",
     "text": [
      "TF-IDF matrix:\n",
      "[[0. 0. 0. ... 0. 0. 0.]\n",
      " [0. 0. 0. ... 0. 0. 0.]\n",
      " [0. 0. 0. ... 0. 0. 0.]\n",
      " ...\n",
      " [0. 0. 0. ... 0. 0. 0.]\n",
      " [0. 0. 0. ... 0. 0. 0.]\n",
      " [0. 0. 0. ... 0. 0. 0.]]\n",
      "\n",
      "Feature names (words/tokens):\n",
      "['18', '2015', '2017', '22', '29', '76', 'aaron', 'able', 'about', 'according', 'across', 'activist', 'ad', 'adjacent', 'affect', 'after', 'against', 'agency', 'agents', 'all', 'allow', 'allowing', 'amash', 'amendment', 'americans', 'and', 'anti', 'any', 'anything', 'apparently', 'approval', 'are', 'area', 'article', 'as', 'at', 'attribution', 'aug', 'authority', 'away', 'based', 'be', 'been', 'bill', 'blevins', 'bloomberg', 'blueprint', 'bna', 'board', 'border', 'boring', 'bother', 'bothered', 'buried', 'by', 'called', 'can', 'carry', 'cause', 'chair', 'charge', 'chicago', 'chief', 'cnn', 'co', 'coinivore', 'columbia', 'commission', 'commons', 'commonwealth', 'compact', 'congress', 'congressman', 'consent', 'constitution', 'content', 'could', 'country', 'creative', 'credit', 'crisis', 'current', 'daunting', 'dc', 'deem', 'deemed', 'designated', 'didn', 'director', 'directors', 'district', 'doesn', 'donald', 'doors', 'duties', 'elected', 'else', 'emanuel', 'employees', 'empowering', 'enter', 'entry', 'establishment', 'evans', 'everyone', 'examinations', 'executive', 'exist', 'exists', 'explained', 'facebook', 'federal', 'finding', 'five', 'flag', 'follow', 'for', 'form', 'formed', 'former', 'fourth', 'free', 'from', 'fta', 'full', 'future', 'gave', 'get', 'give', 'glad', 'go', 'got', 'government', 'govt', 'granting', 'happy', 'has', 'he', 'house', 'however', 'https', 'hundred', 'hurricanes', 'if', 'image', 'in', 'including', 'indeed', 'inspections', 'interstate', 'into', 'investigations', 'is', 'it', 'its', 'jack', 'joint', 'july', 'justin', 'justinamash', 'kesel', 'kick', 'kit', 'lands', 'law', 'laying', 'legislation', 'let', 'lets', 'like', 'limitation', 'll', 'major', 'making', 'maryland', 'match', 'may', 'mayor', 'md', 'mdby', 'media', 'metro', 'metropolitan', 'metrorail', 'mich', 'money', 'msc', 'near', 'necessary', 'need', 'needing', 'never', 'new', 'newly', 'nine', 'ninety', 'not', 'nothing', 'notice', 'now', 'occupied', 'october', 'of', 'off', 'officer', 'officials', 'on', 'one', 'only', 'openly', 'or', 'our', 'out', 'over', 'oversee', 'oversight', 'owned', 'panel', 'parts', 'people', 'performing', 'pointed', 'police', 'post', 'precedent', 'premises', 'president', 'private', 'probable', 'project', 'property', 'prospect', 'protect', 'protects', 'public', 'purpose', 'purposes', 'quietly', 'rachel', 'rahm', 'rail', 'rather', 're', 'reads', 'reasonable', 'red', 'relating', 'rep', 'reported', 'republished', 'resolution', 'rights', 'safety', 'said', 'scary', 'search', 'searches', 'seizures', 'serious', 'set', 'shall', 'signed', 'signs', 'since', 'staff', 'stand', 'starting', 'state', 'steemit', 'stormproof', 'subscribe', 'such', 'surrounding', 'survival', 'svhtwqbpab', 'swore', 'system', 'take', 'testing', 'text', 'that', 'the', 'their', 'them', 'they', 'thing', 'this', 'thought', 'three', 'through', 'to', 'told', 'train', 'transit', 'transportation', 'trespass', 'trump', 'tuesday', 'twitter', 'unreasonable', 'up', 'upon', 'us', 'va', 'virginia', 'vote', 'voted', 'warrant', 'warrantless', 'was', 'washington', 'waste', 'waterproof', 'waters', 'we', 'which', 'while', 'white', 'will', 'with', 'within', 'without', 'wmata', 'worried', 'would', 'writes', 'wrote', 'you', 'youtube']\n"
     ]
    }
   ],
   "source": [
    "# Sample documents (preprocessed)\n",
    "preprocessed_documents =filtered_txt\n",
    "\n",
    "# Creating an instance of TfidfVectorizer\n",
    "tfidf_vectorizer = TfidfVectorizer()\n",
    "\n",
    "# Fit and transform the preprocessed documents\n",
    "X_tfidf = tfidf_vectorizer.fit_transform(preprocessed_documents)\n",
    "\n",
    "# Get the feature names (words/tokens)\n",
    "tfidf_feature_names = tfidf_vectorizer.get_feature_names()\n",
    "\n",
    "# Display the TF-IDF matrix\n",
    "print(\"TF-IDF matrix:\")\n",
    "print(X_tfidf.toarray())\n",
    "\n",
    "# Display feature names\n",
    "print(\"\\nFeature names (words/tokens):\")\n",
    "print(tfidf_feature_names)"
   ]
  },
  {
   "cell_type": "code",
   "execution_count": 53,
   "id": "ad00d043",
   "metadata": {},
   "outputs": [],
   "source": [
    "# define dependent and independent variable\n",
    "#x------>Body ----> train + test\n",
    "#y------>label --->train +test\n",
    "\n",
    "x=df['Body'].values\n",
    "y=df['Label'].values"
   ]
  },
  {
   "cell_type": "code",
   "execution_count": 54,
   "id": "826ed3df",
   "metadata": {},
   "outputs": [],
   "source": [
    "#Splitting the dataset to training & test data\n",
    "x_train, x_test, y_train, y_test = train_test_split(x, y, test_size = 0.2, stratify=y, random_state=2)"
   ]
  },
  {
   "cell_type": "code",
   "execution_count": 55,
   "id": "9d80fca9",
   "metadata": {},
   "outputs": [],
   "source": [
    "#vectorize variable \n",
    "# -------------converting the textual data to numerical data----------------\n",
    "#vectorization = TfidfVectorizer()\n",
    "#vectorization.fit(x)\n",
    "#x=vectorization.transform(x)"
   ]
  },
  {
   "cell_type": "code",
   "execution_count": 56,
   "id": "e2c377a1",
   "metadata": {},
   "outputs": [],
   "source": [
    "# -------------converting the textual data to numerical data---------------\n",
    "#1-Initialization of TfidfVectorizer:object without specifying any additional parameters\n",
    "#2-Transforming Training and Testing Data:\n",
    "\n",
    "\n",
    "vectorization = TfidfVectorizer()\n",
    "xv_train=vectorization.fit_transform(x_train)\n",
    "xv_test=vectorization.transform(x_test)"
   ]
  },
  {
   "cell_type": "code",
   "execution_count": 57,
   "id": "e23e9451",
   "metadata": {},
   "outputs": [
    {
     "name": "stdout",
     "output_type": "stream",
     "text": [
      "  (0, 37365)\t0.04837467898996414\n",
      "  (0, 31727)\t0.136099171933921\n",
      "  (0, 14439)\t0.12768783390746158\n",
      "  (0, 72)\t0.04960374228156878\n",
      "  (0, 3996)\t0.031407273511677394\n",
      "  (0, 8797)\t0.1515793802342224\n",
      "  (0, 28342)\t0.02760925379609134\n",
      "  (0, 38836)\t0.14559350345060584\n",
      "  (0, 2559)\t0.16278983886677242\n",
      "  (0, 7545)\t0.10204845972966985\n",
      "  (0, 29534)\t0.082226223086551\n",
      "  (0, 24705)\t0.052624020733772287\n",
      "  (0, 3113)\t0.025090712284068565\n",
      "  (0, 12739)\t0.10684803187290831\n",
      "  (0, 25873)\t0.06646709257397837\n",
      "  (0, 26719)\t0.11438878462218507\n",
      "  (0, 6077)\t0.12683242615486798\n",
      "  (0, 32687)\t0.06799442357479817\n",
      "  (0, 5091)\t0.03899420321404772\n",
      "  (0, 40032)\t0.04291392387661348\n",
      "  (0, 35083)\t0.05922665578415478\n",
      "  (0, 32576)\t0.1827742331487321\n",
      "  (0, 7112)\t0.07270637521485944\n",
      "  (0, 23735)\t0.32557967773354485\n",
      "  (0, 23785)\t0.22514044646022083\n",
      "  :\t:\n",
      "  (3206, 44473)\t0.011416346191102631\n",
      "  (3206, 43646)\t0.014168677761137833\n",
      "  (3206, 43737)\t0.01913056428551464\n",
      "  (3206, 14547)\t0.01425306379890292\n",
      "  (3206, 30579)\t0.019872756816361598\n",
      "  (3206, 40434)\t0.11496026952481736\n",
      "  (3206, 8723)\t0.044109982510265155\n",
      "  (3206, 42645)\t0.016297621649284794\n",
      "  (3206, 29724)\t0.02739614698233549\n",
      "  (3206, 39973)\t0.1861177363234257\n",
      "  (3206, 28170)\t0.08938334826086516\n",
      "  (3206, 27377)\t0.0117903966460842\n",
      "  (3206, 21310)\t0.01562740150850411\n",
      "  (3206, 10429)\t0.02536605431316572\n",
      "  (3206, 28342)\t0.03925709987549447\n",
      "  (3206, 29534)\t0.023383196633517178\n",
      "  (3206, 3113)\t0.12129850586386481\n",
      "  (3206, 5091)\t0.022178061623033294\n",
      "  (3206, 40032)\t0.02440741366088037\n",
      "  (3206, 35083)\t0.016842662670870572\n",
      "  (3206, 43966)\t0.040968149590945246\n",
      "  (3206, 21243)\t0.06062065882622261\n",
      "  (3206, 40097)\t0.01806271036586222\n",
      "  (3206, 20209)\t0.11921803297717588\n",
      "  (3206, 8491)\t0.05458716915317895\n"
     ]
    }
   ],
   "source": [
    "print(xv_train )"
   ]
  },
  {
   "cell_type": "markdown",
   "id": "56ec22cd",
   "metadata": {},
   "source": [
    "# logistic regression\n"
   ]
  },
  {
   "cell_type": "code",
   "execution_count": 58,
   "id": "34691d21",
   "metadata": {},
   "outputs": [],
   "source": [
    "from sklearn.linear_model import LogisticRegression"
   ]
  },
  {
   "cell_type": "code",
   "execution_count": 59,
   "id": "6ba9bccc",
   "metadata": {},
   "outputs": [],
   "source": [
    "LR=LogisticRegression()\n"
   ]
  },
  {
   "cell_type": "code",
   "execution_count": 61,
   "id": "a900bd5d",
   "metadata": {},
   "outputs": [],
   "source": [
    "LR.fit(xv_train,y_train)\n",
    "y_pred = LR.predict(xv_test)\n"
   ]
  },
  {
   "cell_type": "code",
   "execution_count": 62,
   "id": "461d534e",
   "metadata": {},
   "outputs": [],
   "source": [
    "# accuracy score on the test data\n",
    "testing_data_accuracy=LR.score(xv_test,y_pred)"
   ]
  },
  {
   "cell_type": "code",
   "execution_count": 63,
   "id": "3edec8aa",
   "metadata": {},
   "outputs": [
    {
     "name": "stdout",
     "output_type": "stream",
     "text": [
      "Accuracy score of the testing data :  1.0\n"
     ]
    }
   ],
   "source": [
    "print('Accuracy score of the testing data : ', testing_data_accuracy)"
   ]
  },
  {
   "cell_type": "markdown",
   "id": "8da96a6c",
   "metadata": {},
   "source": [
    "#  ML classifier ( apply  ML classifier SVM, NB, DT, RF, etc.) "
   ]
  },
  {
   "cell_type": "code",
   "execution_count": 345,
   "id": "bd878800",
   "metadata": {},
   "outputs": [],
   "source": [
    "classifiers = [\n",
    "    ('SVM', SVC()),\n",
    "    ('Naive Bayes', MultinomialNB()),]"
   ]
  },
  {
   "cell_type": "code",
   "execution_count": 346,
   "id": "9a48941f",
   "metadata": {},
   "outputs": [],
   "source": [
    "# Train and evaluate each classifier\n",
    "for name, classifier in classifiers:\n",
    "    # Train the classifier\n",
    "    classifier.fit(xv_train, y_train)\n"
   ]
  },
  {
   "cell_type": "code",
   "execution_count": 347,
   "id": "e2f81a91",
   "metadata": {},
   "outputs": [],
   "source": [
    " y_pred = classifier.predict(xv_test)\n"
   ]
  },
  {
   "cell_type": "code",
   "execution_count": 348,
   "id": "e60374bb",
   "metadata": {},
   "outputs": [],
   "source": [
    "accuracy = (y_test, y_pred)"
   ]
  },
  {
   "cell_type": "code",
   "execution_count": 349,
   "id": "c3a72b7f",
   "metadata": {},
   "outputs": [
    {
     "name": "stdout",
     "output_type": "stream",
     "text": [
      "(array([0, 0, 0, 0, 1, 1, 0, 0, 1, 1, 1, 0, 0, 0, 0, 1, 1, 1, 1, 1, 0, 1,\n",
      "       1, 0, 1, 0, 1, 1, 1, 0, 0, 1, 1, 0, 0, 1, 1, 0, 0, 0, 0, 1, 0, 1,\n",
      "       1, 0, 0, 1, 0, 1, 0, 1, 0, 0, 0, 1, 0, 0, 1, 1, 1, 1, 1, 1, 0, 0,\n",
      "       0, 0, 0, 0, 1, 1, 1, 0, 1, 0, 1, 0, 1, 0, 0, 0, 1, 1, 0, 1, 0, 1,\n",
      "       1, 1, 0, 0, 0, 0, 1, 1, 0, 0, 0, 0, 0, 0, 0, 0, 0, 1, 1, 0, 0, 0,\n",
      "       1, 1, 1, 0, 0, 0, 0, 0, 0, 1, 0, 1, 0, 0, 1, 1, 0, 0, 1, 1, 1, 1,\n",
      "       0, 0, 0, 0, 0, 1, 0, 1, 1, 0, 0, 0, 0, 0, 1, 0, 0, 1, 0, 1, 0, 0,\n",
      "       0, 1, 1, 1, 0, 0, 1, 0, 1, 0, 0, 1, 0, 0, 0, 0, 0, 0, 0, 1, 0, 1,\n",
      "       0, 0, 1, 0, 1, 1, 0, 0, 0, 0, 1, 0, 0, 0, 0, 1, 0, 1, 0, 1, 0, 1,\n",
      "       0, 1, 1, 1, 1, 0, 1, 0, 1, 1, 0, 0, 0, 0, 0, 0, 0, 0, 1, 1, 1, 0,\n",
      "       1, 0, 1, 1, 0, 0, 0, 0, 0, 0, 1, 0, 1, 0, 0, 0, 1, 1, 0, 0, 0, 1,\n",
      "       1, 0, 1, 1, 1, 1, 0, 1, 0, 0, 0, 0, 0, 0, 0, 0, 1, 1, 1, 0, 0, 1,\n",
      "       0, 1, 1, 1, 0, 0, 1, 0, 1, 1, 0, 1, 1, 0, 1, 1, 0, 1, 0, 1, 0, 0,\n",
      "       1, 1, 0, 0, 0, 0, 1, 1, 0, 0, 1, 1, 0, 1, 0, 1, 0, 1, 0, 0, 1, 1,\n",
      "       1, 1, 0, 0, 1, 1, 1, 0, 1, 0, 0, 1, 0, 0, 0, 1, 0, 0, 0, 0, 1, 1,\n",
      "       1, 0, 0, 1, 0, 1, 1, 0, 1, 0, 0, 0, 1, 1, 0, 1, 0, 1, 0, 0, 0, 0,\n",
      "       1, 0, 0, 1, 1, 1, 0, 0, 1, 0, 1, 1, 0, 1, 1, 0, 1, 0, 1, 0, 1, 1,\n",
      "       0, 0, 0, 1, 0, 1, 1, 1, 1, 1, 1, 0, 1, 0, 1, 1, 0, 1, 0, 0, 0, 1,\n",
      "       0, 1, 0, 0, 0, 0, 1, 0, 1, 0, 1, 0, 0, 1, 0, 1, 0, 1, 1, 0, 1, 0,\n",
      "       0, 0, 0, 1, 1, 0, 1, 1, 1, 0, 0, 0, 0, 1, 0, 1, 0, 0, 1, 0, 0, 1,\n",
      "       0, 1, 0, 0, 0, 1, 1, 1, 1, 0, 0, 0, 0, 1, 1, 1, 0, 0, 1, 1, 0, 1,\n",
      "       0, 0, 0, 1, 1, 0, 0, 0, 0, 0, 0, 0, 0, 1, 1, 0, 1, 1, 0, 1, 0, 0,\n",
      "       1, 0, 1, 0, 1, 0, 1, 1, 1, 1, 0, 1, 0, 1, 1, 1, 1, 0, 1, 1, 1, 0,\n",
      "       1, 0, 1, 1, 0, 1, 1, 1, 0, 0, 1, 0, 1, 0, 1, 0, 0, 0, 1, 1, 0, 1,\n",
      "       1, 1, 0, 1, 1, 0, 0, 0, 1, 0, 0, 0, 0, 1, 0, 0, 0, 0, 1, 0, 1, 0,\n",
      "       1, 0, 0, 0, 0, 0, 0, 0, 0, 1, 0, 1, 1, 1, 1, 0, 0, 1, 1, 1, 1, 0,\n",
      "       0, 1, 1, 1, 0, 1, 1, 1, 0, 1, 0, 0, 1, 1, 1, 1, 1, 1, 0, 0, 1, 1,\n",
      "       1, 0, 1, 0, 0, 0, 1, 0, 0, 0, 1, 0, 1, 1, 0, 1, 1, 1, 0, 1, 0, 1,\n",
      "       0, 1, 0, 0, 0, 1, 1, 1, 0, 0, 0, 0, 0, 0, 1, 1, 1, 0, 1, 1, 1, 0,\n",
      "       0, 1, 1, 1, 0, 0, 1, 1, 0, 1, 0, 0, 1, 0, 0, 0, 0, 0, 0, 1, 1, 1,\n",
      "       1, 0, 1, 0, 0, 0, 1, 1, 0, 1, 1, 1, 1, 0, 0, 1, 1, 0, 1, 0, 1, 1,\n",
      "       1, 1, 0, 1, 1, 0, 1, 1, 1, 1, 1, 0, 1, 0, 0, 1, 1, 0, 1, 0, 1, 1,\n",
      "       1, 0, 0, 0, 1, 1, 1, 1, 0, 0, 0, 1, 0, 1, 1, 1, 1, 0, 1, 0, 0, 0,\n",
      "       0, 1, 1, 0, 0, 1, 1, 1, 0, 0, 0, 0, 1, 1, 0, 1, 1, 0, 0, 0, 1, 0,\n",
      "       0, 0, 0, 0, 1, 1, 0, 1, 0, 0, 1, 0, 0, 0, 0, 1, 1, 1, 0, 0, 0, 1,\n",
      "       0, 0, 0, 0, 1, 0, 1, 1, 0, 0, 1, 0, 0, 0, 1, 0, 0, 1, 1, 0, 1, 0,\n",
      "       0, 1, 1, 0, 1, 1, 0, 1, 0, 0], dtype=int64), array([0, 0, 1, 0, 1, 1, 0, 0, 1, 0, 1, 0, 0, 0, 0, 0, 1, 1, 1, 1, 0, 1,\n",
      "       1, 0, 1, 0, 1, 1, 1, 0, 1, 1, 1, 0, 0, 1, 1, 0, 0, 0, 1, 1, 0, 1,\n",
      "       1, 0, 0, 1, 0, 1, 0, 1, 0, 0, 0, 0, 0, 0, 1, 1, 1, 1, 1, 0, 0, 0,\n",
      "       0, 0, 0, 0, 1, 1, 1, 0, 1, 0, 1, 0, 1, 0, 0, 0, 1, 1, 0, 1, 0, 1,\n",
      "       1, 1, 1, 0, 0, 0, 1, 1, 0, 0, 0, 0, 0, 0, 0, 0, 1, 1, 1, 0, 0, 0,\n",
      "       0, 1, 1, 0, 0, 0, 0, 0, 1, 1, 1, 1, 0, 0, 1, 1, 0, 0, 1, 1, 1, 1,\n",
      "       0, 0, 0, 0, 0, 1, 0, 1, 1, 1, 0, 0, 0, 0, 1, 0, 0, 1, 0, 1, 0, 0,\n",
      "       0, 1, 1, 1, 0, 0, 1, 0, 1, 0, 0, 1, 1, 0, 0, 0, 0, 0, 0, 1, 0, 1,\n",
      "       0, 0, 1, 0, 1, 1, 0, 0, 0, 0, 1, 0, 0, 0, 0, 1, 0, 1, 0, 1, 0, 1,\n",
      "       0, 1, 1, 1, 1, 0, 1, 0, 1, 1, 0, 0, 0, 0, 0, 0, 0, 0, 1, 1, 1, 0,\n",
      "       1, 0, 1, 1, 0, 0, 0, 0, 1, 0, 1, 0, 1, 0, 0, 0, 1, 1, 0, 0, 0, 0,\n",
      "       1, 0, 1, 1, 1, 1, 0, 1, 0, 0, 1, 1, 1, 0, 1, 0, 1, 1, 1, 1, 0, 1,\n",
      "       0, 1, 1, 1, 0, 0, 1, 0, 1, 1, 0, 1, 1, 0, 1, 1, 0, 0, 0, 1, 0, 0,\n",
      "       1, 1, 0, 0, 0, 0, 1, 1, 0, 0, 1, 1, 0, 1, 1, 1, 0, 1, 0, 1, 1, 1,\n",
      "       1, 1, 0, 0, 1, 1, 1, 0, 1, 0, 0, 1, 1, 0, 0, 1, 0, 1, 1, 0, 1, 1,\n",
      "       1, 1, 0, 1, 0, 1, 1, 0, 1, 0, 0, 0, 1, 1, 0, 1, 0, 1, 0, 0, 1, 0,\n",
      "       1, 0, 0, 1, 1, 1, 0, 0, 1, 0, 1, 1, 0, 1, 1, 0, 1, 1, 0, 1, 1, 1,\n",
      "       0, 0, 0, 1, 0, 1, 1, 1, 1, 1, 1, 0, 1, 0, 1, 1, 0, 1, 0, 0, 0, 1,\n",
      "       0, 1, 0, 0, 0, 0, 1, 0, 1, 0, 0, 0, 0, 1, 0, 1, 0, 1, 1, 0, 1, 0,\n",
      "       1, 0, 1, 1, 1, 0, 1, 1, 1, 0, 0, 0, 0, 1, 0, 1, 0, 0, 1, 0, 0, 1,\n",
      "       0, 1, 0, 0, 1, 0, 1, 1, 1, 0, 0, 0, 0, 1, 1, 1, 0, 1, 1, 1, 0, 1,\n",
      "       0, 0, 0, 1, 1, 0, 0, 0, 0, 0, 1, 0, 0, 1, 1, 0, 1, 1, 0, 1, 0, 0,\n",
      "       1, 0, 1, 0, 1, 0, 1, 1, 1, 1, 0, 1, 0, 1, 1, 1, 1, 0, 1, 0, 1, 0,\n",
      "       1, 0, 1, 1, 0, 1, 1, 1, 0, 0, 1, 0, 1, 0, 1, 0, 0, 0, 1, 1, 0, 1,\n",
      "       1, 1, 0, 1, 1, 0, 1, 1, 1, 0, 0, 0, 0, 1, 0, 0, 0, 0, 1, 0, 1, 0,\n",
      "       1, 0, 0, 0, 0, 0, 0, 0, 0, 1, 0, 1, 1, 1, 1, 0, 0, 1, 1, 1, 1, 0,\n",
      "       0, 1, 1, 1, 0, 1, 1, 1, 0, 1, 0, 1, 1, 1, 1, 1, 1, 1, 0, 0, 1, 1,\n",
      "       1, 0, 1, 0, 0, 0, 0, 0, 0, 0, 1, 0, 1, 1, 0, 1, 1, 1, 0, 1, 0, 1,\n",
      "       0, 1, 0, 1, 0, 1, 1, 1, 0, 1, 0, 0, 0, 0, 1, 1, 1, 0, 1, 1, 1, 0,\n",
      "       0, 0, 1, 1, 0, 1, 1, 1, 0, 1, 0, 1, 1, 0, 0, 1, 0, 0, 0, 1, 1, 1,\n",
      "       1, 1, 1, 0, 0, 0, 1, 1, 0, 1, 1, 1, 1, 0, 0, 1, 1, 0, 1, 0, 1, 1,\n",
      "       1, 1, 0, 1, 1, 0, 1, 1, 1, 1, 1, 0, 1, 0, 0, 1, 1, 0, 1, 0, 1, 1,\n",
      "       0, 0, 0, 0, 1, 1, 1, 1, 0, 0, 1, 1, 0, 1, 1, 1, 1, 0, 1, 0, 0, 0,\n",
      "       0, 0, 1, 0, 1, 1, 1, 1, 1, 0, 0, 0, 1, 0, 0, 1, 1, 0, 0, 0, 1, 0,\n",
      "       0, 0, 0, 1, 1, 1, 0, 1, 0, 0, 1, 0, 0, 0, 0, 1, 1, 1, 0, 0, 0, 1,\n",
      "       0, 0, 0, 0, 1, 0, 1, 1, 0, 1, 1, 0, 0, 0, 1, 0, 0, 1, 1, 0, 1, 1,\n",
      "       0, 1, 1, 0, 1, 1, 0, 1, 0, 0], dtype=int64))\n"
     ]
    }
   ],
   "source": [
    "print(accuracy)"
   ]
  },
  {
   "cell_type": "code",
   "execution_count": 350,
   "id": "f2ae6de5",
   "metadata": {},
   "outputs": [],
   "source": [
    "svm_classifier = SVC(kernel='linear')"
   ]
  },
  {
   "cell_type": "code",
   "execution_count": 351,
   "id": "0263cd76",
   "metadata": {},
   "outputs": [
    {
     "data": {
      "text/plain": [
       "SVC(kernel='linear')"
      ]
     },
     "execution_count": 351,
     "metadata": {},
     "output_type": "execute_result"
    }
   ],
   "source": [
    "svm_classifier.fit(xv_train, y_train)"
   ]
  },
  {
   "cell_type": "code",
   "execution_count": 352,
   "id": "7056e893",
   "metadata": {},
   "outputs": [],
   "source": [
    "y_pred = svm_classifier.predict(xv_test)"
   ]
  },
  {
   "cell_type": "code",
   "execution_count": 354,
   "id": "951bd2e4",
   "metadata": {},
   "outputs": [],
   "source": [
    "accuracy = accuracy_score(y_test, y_pred)\n"
   ]
  },
  {
   "cell_type": "code",
   "execution_count": 355,
   "id": "dc60373b",
   "metadata": {},
   "outputs": [
    {
     "name": "stdout",
     "output_type": "stream",
     "text": [
      "SVM accuracy: 0.9888\n"
     ]
    }
   ],
   "source": [
    "print(f\"SVM accuracy: {accuracy:.4f}\")"
   ]
  },
  {
   "cell_type": "code",
   "execution_count": null,
   "id": "d0e6069e",
   "metadata": {},
   "outputs": [],
   "source": []
  },
  {
   "cell_type": "code",
   "execution_count": null,
   "id": "7fe62332",
   "metadata": {},
   "outputs": [],
   "source": []
  }
 ],
 "metadata": {
  "kernelspec": {
   "display_name": "Python 3 (ipykernel)",
   "language": "python",
   "name": "python3"
  },
  "language_info": {
   "codemirror_mode": {
    "name": "ipython",
    "version": 3
   },
   "file_extension": ".py",
   "mimetype": "text/x-python",
   "name": "python",
   "nbconvert_exporter": "python",
   "pygments_lexer": "ipython3",
   "version": "3.9.7"
  }
 },
 "nbformat": 4,
 "nbformat_minor": 5
}
